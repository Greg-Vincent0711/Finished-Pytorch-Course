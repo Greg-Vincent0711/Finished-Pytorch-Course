{
  "nbformat": 4,
  "nbformat_minor": 0,
  "metadata": {
    "colab": {
      "provenance": [],
      "gpuType": "T4",
      "authorship_tag": "ABX9TyOhLIXWuxCWiKL4pFXM0gL6",
      "include_colab_link": true
    },
    "kernelspec": {
      "name": "python3",
      "display_name": "Python 3"
    },
    "language_info": {
      "name": "python"
    }
  },
  "cells": [
    {
      "cell_type": "markdown",
      "metadata": {
        "id": "view-in-github",
        "colab_type": "text"
      },
      "source": [
        "<a href=\"https://colab.research.google.com/github/Greg-Vincent0711/Learning-Pytorch/blob/main/01_first_model.ipynb\" target=\"_parent\"><img src=\"https://colab.research.google.com/assets/colab-badge.svg\" alt=\"Open In Colab\"/></a>"
      ]
    },
    {
      "cell_type": "code",
      "execution_count": 4,
      "metadata": {
        "colab": {
          "base_uri": "https://localhost:8080/",
          "height": 35
        },
        "id": "ug74XN3xSfZl",
        "outputId": "74c21e59-c75d-4bf7-a3e9-252d2bbca79a"
      },
      "outputs": [
        {
          "output_type": "execute_result",
          "data": {
            "text/plain": [
              "'2.1.0+cu121'"
            ],
            "application/vnd.google.colaboratory.intrinsic+json": {
              "type": "string"
            }
          },
          "metadata": {},
          "execution_count": 4
        }
      ],
      "source": [
        "# example pytorch end to end workflow\n",
        "\n",
        "import torch\n",
        "# nn contains all pytorch building blocks for neural nets\n",
        "from torch import nn\n",
        "# for visualizations\n",
        "import matplotlib.pyplot as plt\n",
        "import numpy as np\n",
        "torch.__version__\n"
      ]
    },
    {
      "cell_type": "code",
      "source": [
        "# 1. preparing and loading data as tensors\n",
        "\n",
        "# using linear regression with a known dataset/representation\n",
        "\n",
        "# creating the known parameters/dataset\n",
        "weight = 0.7\n",
        "bias = 0.3\n",
        "\n",
        "# create\n",
        "start = 0\n",
        "end = 1\n",
        "step = 0.02\n",
        "# X is capital since it's typically a matrix/tensor\n",
        "# unsqueeze ADDS another dimension to the data - square brackets\n",
        "X = torch.arange(start, end, step).unsqueeze(dim=1)\n",
        "# where linear regression - y = mx + b = ax + b, etc\n",
        "y = weight * X + bias\n",
        "\n",
        "X[:10], y[:10]\n",
        "\n",
        "\n",
        "\n"
      ],
      "metadata": {
        "colab": {
          "base_uri": "https://localhost:8080/"
        },
        "id": "P0FbrXF0Ufmy",
        "outputId": "e61ff96e-814a-4236-f518-d2fd8db9cdc8"
      },
      "execution_count": 5,
      "outputs": [
        {
          "output_type": "execute_result",
          "data": {
            "text/plain": [
              "(tensor([[0.0000],\n",
              "         [0.0200],\n",
              "         [0.0400],\n",
              "         [0.0600],\n",
              "         [0.0800],\n",
              "         [0.1000],\n",
              "         [0.1200],\n",
              "         [0.1400],\n",
              "         [0.1600],\n",
              "         [0.1800]]),\n",
              " tensor([[0.3000],\n",
              "         [0.3140],\n",
              "         [0.3280],\n",
              "         [0.3420],\n",
              "         [0.3560],\n",
              "         [0.3700],\n",
              "         [0.3840],\n",
              "         [0.3980],\n",
              "         [0.4120],\n",
              "         [0.4260]]))"
            ]
          },
          "metadata": {},
          "execution_count": 5
        }
      ]
    },
    {
      "cell_type": "code",
      "source": [
        "# splitting data into training and tests sets - very important\n",
        "# testing/training is usually an 80% 20% split\n",
        "train_split = int(0.8 * len(X))\n",
        "# 40 samples\n",
        "X_train, y_train = X[:train_split], y[:train_split]\n",
        "# remaining 10\n",
        "X_test, y_test = X[train_split:], y[train_split:]\n",
        "\n"
      ],
      "metadata": {
        "id": "327fN-SJZEYB"
      },
      "execution_count": 6,
      "outputs": []
    },
    {
      "cell_type": "code",
      "source": [
        "\n",
        "\"\"\"\n",
        "  plots training data, test data, compares predictions\n",
        "\"\"\"\n",
        "def plot_predictions(train_data=X_train,\n",
        "                     train_labels=y_train,\n",
        "                     test_data=X_test,\n",
        "                     test_lables=y_test,\n",
        "                     predictions=None):\n",
        "    plt.figure(figsize=(10,7))\n",
        "    plt.scatter(train_data, train_labels, c=\"b\", s=4, label=\"Training data\")\n",
        "    plt.scatter(test_data, test_lables, c=\"g\", s=4, label=\"Test data\")\n",
        "\n",
        "    if predictions is not None:\n",
        "      # if perfect, prediction should be on top\n",
        "      plt.scatter(test_data, predictions, c=\"r\", s=4, label=\"Predictions\")\n",
        "\n",
        "    plt.legend(prop = {\"size\": 1})\n",
        "\n",
        "\n"
      ],
      "metadata": {
        "id": "608GdLZectWv"
      },
      "execution_count": 7,
      "outputs": []
    },
    {
      "cell_type": "code",
      "source": [
        "# Building a pytorch linear regression model...y = weight * X + bias\n",
        "from torch import nn\n",
        "\n",
        "# inherits from neural network module. most inherit from that\n",
        "class LinearRegModel(nn.Module):\n",
        "  def __init__(self):\n",
        "    # calls initialize method on parent class\n",
        "    super().__init__()\n",
        "    \"\"\"\n",
        "    nn.Parameter - explicitly a parameter of the model\n",
        "    torch.randn(1,) tensor with random values from a std.dev\n",
        "    requires_grad - tracked for differentation, used for\n",
        "    gradient descent/backprop\n",
        "    torch.float = torch.float32 = default torch datatype\n",
        "    \"\"\"\n",
        "    self.weights = nn.Parameter(torch.randn(1, requires_grad=True,\n",
        "                                            dtype=torch.float))\n",
        "    self.bias = nn.Parameter(torch.randn(1,\n",
        "                                         requires_grad=True,\n",
        "                                         dtype=torch.float))\n",
        "  # defining forward fn . x represents input layer data\n",
        "  def forward(self, x: torch.Tensor) -> torch.Tensor:\n",
        "    return self.weights * x + self.bias\n",
        "\n",
        "\n",
        "\n",
        "\n"
      ],
      "metadata": {
        "id": "a3VDV5UuhC4W"
      },
      "execution_count": 8,
      "outputs": []
    },
    {
      "cell_type": "code",
      "source": [
        "# pytorch model building essentials\n",
        "\"\"\"\n",
        "torch.nn - contains all building blocks for computational graphs\n",
        "torch.nn.Parameter - what parameters should our model try and learn\n",
        "torch.nn.Module - base class for all neural networks\n",
        "if it's subclassed, overwrite forward(), this is required\n",
        "torch.optim - optimizers that help with gradient descent\n",
        "\"\"\"\n"
      ],
      "metadata": {
        "id": "FIahHVO_MtQF",
        "colab": {
          "base_uri": "https://localhost:8080/",
          "height": 107
        },
        "outputId": "c02ac818-cc4a-4d98-a9f7-f9ab55006f48"
      },
      "execution_count": 9,
      "outputs": [
        {
          "output_type": "execute_result",
          "data": {
            "text/plain": [
              "\"\\ntorch.nn - contains all building blocks for computational graphs\\ntorch.nn.Parameter - what parameters should our model try and learn\\ntorch.nn.Module - base class for all neural networks\\nif it's subclassed, overwrite forward(), this is required\\ntorch.optim - optimizers that help with gradient descent\\n\""
            ],
            "application/vnd.google.colaboratory.intrinsic+json": {
              "type": "string"
            }
          },
          "metadata": {},
          "execution_count": 9
        }
      ]
    },
    {
      "cell_type": "code",
      "source": [
        "# Creating a subclass and messing around with the LinearReg model\n",
        "\n",
        "# set a random seed\n",
        "torch.manual_seed(42)\n",
        "\n",
        "# create an instance of the model\n",
        "\n",
        "model_0 = LinearRegModel()\n",
        "\n",
        "# look at the parameters\n",
        "list(model_0.parameters())\n",
        "\n",
        "# lists the parameters in a more proper way\n",
        "model_0.state_dict()\n",
        "\n"
      ],
      "metadata": {
        "colab": {
          "base_uri": "https://localhost:8080/"
        },
        "id": "VfdkekhsPS5k",
        "outputId": "960e9cca-1d4e-45fc-ab5c-a24868428092"
      },
      "execution_count": 10,
      "outputs": [
        {
          "output_type": "execute_result",
          "data": {
            "text/plain": [
              "OrderedDict([('weights', tensor([0.3367])), ('bias', tensor([0.1288]))])"
            ]
          },
          "metadata": {},
          "execution_count": 10
        }
      ]
    },
    {
      "cell_type": "code",
      "source": [
        "# making predictions with torch.inference_mode()\n",
        "# inference_mode makes it\n",
        "with torch.inference_mode():\n",
        "  # if model is perfect, the y_preds list should equal y_test\n",
        "  y_preds = model_0(X_test)\n",
        "y_preds\n"
      ],
      "metadata": {
        "colab": {
          "base_uri": "https://localhost:8080/"
        },
        "id": "CRfPpg6o-Lw1",
        "outputId": "b8c0ba6a-15dd-4a7a-be4e-c86e01901348"
      },
      "execution_count": 11,
      "outputs": [
        {
          "output_type": "execute_result",
          "data": {
            "text/plain": [
              "tensor([[0.3982],\n",
              "        [0.4049],\n",
              "        [0.4116],\n",
              "        [0.4184],\n",
              "        [0.4251],\n",
              "        [0.4318],\n",
              "        [0.4386],\n",
              "        [0.4453],\n",
              "        [0.4520],\n",
              "        [0.4588]])"
            ]
          },
          "metadata": {},
          "execution_count": 11
        }
      ]
    },
    {
      "cell_type": "code",
      "source": [
        "y_test"
      ],
      "metadata": {
        "colab": {
          "base_uri": "https://localhost:8080/"
        },
        "id": "Hxa5n6luApcG",
        "outputId": "facd8fef-0668-4df4-9352-9f3c4cef2c17"
      },
      "execution_count": 12,
      "outputs": [
        {
          "output_type": "execute_result",
          "data": {
            "text/plain": [
              "tensor([[0.8600],\n",
              "        [0.8740],\n",
              "        [0.8880],\n",
              "        [0.9020],\n",
              "        [0.9160],\n",
              "        [0.9300],\n",
              "        [0.9440],\n",
              "        [0.9580],\n",
              "        [0.9720],\n",
              "        [0.9860]])"
            ]
          },
          "metadata": {},
          "execution_count": 12
        }
      ]
    },
    {
      "cell_type": "code",
      "source": [
        "# as of right now, the model isn't too accurate\n",
        "plot_predictions(predictions=y_preds)"
      ],
      "metadata": {
        "colab": {
          "base_uri": "https://localhost:8080/",
          "height": 462
        },
        "id": "RmDntHJLDH02",
        "outputId": "763a311f-84d2-4d6f-eec3-2daa638bfe5f"
      },
      "execution_count": 13,
      "outputs": [
        {
          "output_type": "display_data",
          "data": {
            "text/plain": [
              "<Figure size 1000x700 with 1 Axes>"
            ],
            "image/png": "[encoded data removed]"
          },
          "metadata": {}
        }
      ]
    },
    {
      "cell_type": "code",
      "source": [
        "# actually training the model - setting up a loss fn and optimizer\n",
        "\n",
        "torch.manual_seed(42)\n",
        " # L1 Loss fn\n",
        "loss_fn = nn.L1Loss()\n",
        "\n",
        "\"\"\"\n",
        "optimizer using stochastic gradient descent\n",
        "learning rate is like a measure of precision for\n",
        "how much w and b are updated\n",
        "\"\"\"\n",
        "optimizer = torch.optim.SGD(params=model_0.parameters(), lr=0.01)\n",
        "\n",
        "# building a training and testing loop\n",
        "# loop through the data\n",
        "# forward pass the data\n",
        "# calculate loss - compare foward pass predictions to labels\n",
        "# optimizer zero grad\n",
        "# Loss backward - move backwards/backprop to calc gradient of each param\n",
        "# with respect to loss\n",
        "# Optimizer step - use optimizer to adjust model's parameters(gradient descent)\n",
        "\n",
        "# an epoch is one loop through the data\n",
        "# this is a hyperparameter since it's user set\n",
        "epochs = 200\n",
        "epoch_count = []\n",
        "loss_values = []\n",
        "test_loss_vals = []\n",
        "\n",
        "\n",
        "# loop through the data\n",
        "for epoch in range(epochs):\n",
        "  # set the model to training mode.\n",
        "  # any params that need gradients are set to require_gradient=true\n",
        "  model_0.train()\n",
        "\n",
        "  # forward pass\n",
        "  y_pred = model_0(X_train)\n",
        "\n",
        "  # calculate the loss between model predictions and ideal training values\n",
        "  loss = loss_fn(y_pred, y_train)\n",
        "\n",
        "\n",
        "  # initialize gradients to zero for each epoch\n",
        "  optimizer.zero_grad()\n",
        "\n",
        "  # perform backpropagation w/ respect to parameters\n",
        "  loss.backward()\n",
        "\n",
        "  # step the optimizer, always after backprop\n",
        "  # how the optimizer changes will accumulate through the loop\n",
        "  optimizer.step()\n",
        "\n",
        "  # writing a testing loop\n",
        "\n",
        "  # turns of model settings not needed for testing\n",
        "  model_0.eval()\n",
        "\n",
        "  with torch.inference_mode():\n",
        "    # still do forward pass\n",
        "    test_pred = model_0(X_test)\n",
        "    # calculate the loss, different parameters this time\n",
        "    test_loss = loss_fn(test_pred, y_test)\n",
        "    if epoch % 10 == 0:\n",
        "      epoch_count.append(epoch)\n",
        "      loss_values.append(loss)\n",
        "      test_loss_vals.append(test_loss)\n",
        "      print(f\"Epoch : {epoch} | Loss: {loss} | Test loss: {test_loss}\")\n",
        "\n",
        "\n",
        "\n",
        "\n"
      ],
      "metadata": {
        "id": "q6xL7rjwM_Ha",
        "colab": {
          "base_uri": "https://localhost:8080/"
        },
        "outputId": "d339a5a7-9f51-4c33-b292-318e354ec667"
      },
      "execution_count": 14,
      "outputs": [
        {
          "output_type": "stream",
          "name": "stdout",
          "text": [
            "Epoch : 0 | Loss: 0.31288138031959534 | Test loss: 0.48106518387794495\n",
            "Epoch : 10 | Loss: 0.1976713240146637 | Test loss: 0.3463551998138428\n",
            "Epoch : 20 | Loss: 0.08908725529909134 | Test loss: 0.21729660034179688\n",
            "Epoch : 30 | Loss: 0.053148526698350906 | Test loss: 0.14464017748832703\n",
            "Epoch : 40 | Loss: 0.04543796554207802 | Test loss: 0.11360953003168106\n",
            "Epoch : 50 | Loss: 0.04167863354086876 | Test loss: 0.09919948130846024\n",
            "Epoch : 60 | Loss: 0.03818932920694351 | Test loss: 0.08886633068323135\n",
            "Epoch : 70 | Loss: 0.03476089984178543 | Test loss: 0.0805937647819519\n",
            "Epoch : 80 | Loss: 0.03132382780313492 | Test loss: 0.07232122868299484\n",
            "Epoch : 90 | Loss: 0.02788739837706089 | Test loss: 0.06473556160926819\n",
            "Epoch : 100 | Loss: 0.024458957836031914 | Test loss: 0.05646304413676262\n",
            "Epoch : 110 | Loss: 0.021020207554101944 | Test loss: 0.04819049686193466\n",
            "Epoch : 120 | Loss: 0.01758546568453312 | Test loss: 0.04060482233762741\n",
            "Epoch : 130 | Loss: 0.014155393466353416 | Test loss: 0.03233227878808975\n",
            "Epoch : 140 | Loss: 0.010716589167714119 | Test loss: 0.024059748277068138\n",
            "Epoch : 150 | Loss: 0.0072835334576666355 | Test loss: 0.016474086791276932\n",
            "Epoch : 160 | Loss: 0.0038517764769494534 | Test loss: 0.008201557211577892\n",
            "Epoch : 170 | Loss: 0.008932482451200485 | Test loss: 0.005023092031478882\n",
            "Epoch : 180 | Loss: 0.008932482451200485 | Test loss: 0.005023092031478882\n",
            "Epoch : 190 | Loss: 0.008932482451200485 | Test loss: 0.005023092031478882\n"
          ]
        }
      ]
    },
    {
      "cell_type": "code",
      "source": [
        "# after training the model multiple times\n",
        "# and updating weights and biases\n",
        "with torch.inference_mode():\n",
        "  y_preds_new = model_0(X_test)\n",
        "\n",
        "plot_predictions(predictions=y_preds_new)\n"
      ],
      "metadata": {
        "colab": {
          "base_uri": "https://localhost:8080/",
          "height": 462
        },
        "id": "9bf-vrmr23fL",
        "outputId": "1bb3b2a5-f9bc-49c9-a262-f269dfabb9c0"
      },
      "execution_count": 15,
      "outputs": [
        {
          "output_type": "display_data",
          "data": {
            "text/plain": [
              "<Figure size 1000x700 with 1 Axes>"
            ],
            "image/png": "[encoded data removed]"
          },
          "metadata": {}
        }
      ]
    },
    {
      "cell_type": "code",
      "source": [
        "# training and loss curves over time, model is getting more accurate over epochs\n",
        "plt.plot(epoch_count, np.array(torch.tensor(loss_values).numpy()), label=\"Train Loss\")\n",
        "plt.plot(epoch_count, np.array(torch.tensor(test_loss_vals).numpy()), label=\"Test Loss\")\n",
        "plt.title(\"Training and Test Loss curves\")\n",
        "plt.ylabel(\"Loss\")\n",
        "plt.xlabel(\"Epochs\")\n",
        "plt.legend()\n"
      ],
      "metadata": {
        "colab": {
          "base_uri": "https://localhost:8080/",
          "height": 490
        },
        "id": "2iKIyFxl4_Tz",
        "outputId": "b65d4a70-0ecf-4686-fc9a-2d4433c54557"
      },
      "execution_count": 16,
      "outputs": [
        {
          "output_type": "execute_result",
          "data": {
            "text/plain": [
              "<matplotlib.legend.Legend at 0x7e78a81d72e0>"
            ]
          },
          "metadata": {},
          "execution_count": 16
        },
        {
          "output_type": "display_data",
          "data": {
            "text/plain": [
              "<Figure size 640x480 with 1 Axes>"
            ],
            "image/png": "[encoded data removed]"
          },
          "metadata": {}
        }
      ]
    },
    {
      "cell_type": "code",
      "source": [
        "# saving a model\n",
        "\n",
        "from pathlib import Path\n",
        "\n",
        "# create a model directory\n",
        "MODEL_PATH = Path(\"models\")\n",
        "MODEL_PATH.mkdir(parents=True, exist_ok=True)\n",
        "\n",
        "# create model save path, has to be saved with .pt or .pth\n",
        "MODEL_NAME = \"01_pytorch_workflow_model_0.pth\"\n",
        "MODEL_SAVE_PATH = MODEL_PATH / MODEL_NAME\n",
        "torch.save(model_0.state_dict(), MODEL_SAVE_PATH)"
      ],
      "metadata": {
        "id": "cGPXGuBGCzHE"
      },
      "execution_count": 17,
      "outputs": []
    },
    {
      "cell_type": "code",
      "source": [
        "# loading a model\n",
        "loaded_model_0 = LinearRegModel()\n",
        "\n",
        "# loading the saved state_dict of model_0\n",
        "loaded_model_0.load_state_dict(torch.load(f=MODEL_SAVE_PATH))\n",
        "loaded_model_0.state_dict()\n",
        "\n"
      ],
      "metadata": {
        "colab": {
          "base_uri": "https://localhost:8080/"
        },
        "id": "D-TDcpMc70Rw",
        "outputId": "9f5724d9-4c57-4a38-9b87-bffa4f65c098"
      },
      "execution_count": 23,
      "outputs": [
        {
          "output_type": "execute_result",
          "data": {
            "text/plain": [
              "OrderedDict([('weights', tensor([0.6990])), ('bias', tensor([0.3093]))])"
            ]
          },
          "metadata": {},
          "execution_count": 23
        }
      ]
    },
    {
      "cell_type": "code",
      "source": [
        "# compare loaded_model_preds to model_0 preds\n",
        "\n",
        "model_0.eval()\n",
        "with torch.inference_mode():\n",
        "  y_preds = model_0(X_test)\n",
        "\n",
        "\n",
        "loaded_model_0.eval()\n",
        "with torch.inference_mode():\n",
        "  loaded_model_preds = loaded_model_0(X_test)\n",
        "\n",
        "y_preds == loaded_model_preds\n"
      ],
      "metadata": {
        "colab": {
          "base_uri": "https://localhost:8080/"
        },
        "id": "ZlxHATdRJcyo",
        "outputId": "2dc9feb2-1053-4cbe-9c7b-018bc856bd6c"
      },
      "execution_count": 26,
      "outputs": [
        {
          "output_type": "execute_result",
          "data": {
            "text/plain": [
              "tensor([[True],\n",
              "        [True],\n",
              "        [True],\n",
              "        [True],\n",
              "        [True],\n",
              "        [True],\n",
              "        [True],\n",
              "        [True],\n",
              "        [True],\n",
              "        [True]])"
            ]
          },
          "metadata": {},
          "execution_count": 26
        }
      ]
    },
    {
      "cell_type": "code",
      "source": [],
      "metadata": {
        "id": "T-FINiEBKcG6"
      },
      "execution_count": null,
      "outputs": []
    }
  ]
}