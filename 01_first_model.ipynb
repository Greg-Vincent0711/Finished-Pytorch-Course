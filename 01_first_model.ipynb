{
  "nbformat": 4,
  "nbformat_minor": 0,
  "metadata": {
    "colab": {
      "provenance": [],
      "gpuType": "T4",
      "authorship_tag": "ABX9TyPb05NVfIfg9cylGUdZGb8k"
    },
    "kernelspec": {
      "name": "python3",
      "display_name": "Python 3"
    },
    "language_info": {
      "name": "python"
    }
  },
  "cells": [
    {
      "cell_type": "code",
      "execution_count": 1,
      "metadata": {
        "colab": {
          "base_uri": "https://localhost:8080/",
          "height": 35
        },
        "id": "ug74XN3xSfZl",
        "outputId": "d4b3450a-01c3-499f-efbc-eb8cb8565eda"
      },
      "outputs": [
        {
          "output_type": "execute_result",
          "data": {
            "text/plain": [
              "'2.1.0+cu121'"
            ],
            "application/vnd.google.colaboratory.intrinsic+json": {
              "type": "string"
            }
          },
          "metadata": {},
          "execution_count": 1
        }
      ],
      "source": [
        "# example pytorch end to end workflow\n",
        "\n",
        "import torch\n",
        "# nn contains all pytorch building blocks for neural nets\n",
        "from torch import nn\n",
        "# for visualizations\n",
        "import matplotlib.pyplot as plt\n",
        "\n",
        "torch.__version__\n"
      ]
    },
    {
      "cell_type": "code",
      "source": [
        "# 1. preparing and loading data as tensors\n",
        "\n",
        "# using linear regression with a known dataset/representation\n",
        "\n",
        "# creating the known parameters/dataset\n",
        "weight = 0.7\n",
        "bias = 0.3\n",
        "\n",
        "# create\n",
        "start = 0\n",
        "end = 1\n",
        "step = 0.02\n",
        "# X is capital since it's typically a matrix/tensor\n",
        "# unsqueeze ADDS another dimension to the data - square brackets\n",
        "X = torch.arange(start, end, step).unsqueeze(dim=1)\n",
        "# where linear regression - y = mx + b = ax + b, etc\n",
        "y = weight * X + bias\n",
        "\n",
        "X[:10], y[:10]\n",
        "\n",
        "\n",
        "\n"
      ],
      "metadata": {
        "colab": {
          "base_uri": "https://localhost:8080/"
        },
        "id": "P0FbrXF0Ufmy",
        "outputId": "c98c7cf7-583d-4de4-ba36-89cb86d93a5a"
      },
      "execution_count": 2,
      "outputs": [
        {
          "output_type": "execute_result",
          "data": {
            "text/plain": [
              "(tensor([[0.0000],\n",
              "         [0.0200],\n",
              "         [0.0400],\n",
              "         [0.0600],\n",
              "         [0.0800],\n",
              "         [0.1000],\n",
              "         [0.1200],\n",
              "         [0.1400],\n",
              "         [0.1600],\n",
              "         [0.1800]]),\n",
              " tensor([[0.3000],\n",
              "         [0.3140],\n",
              "         [0.3280],\n",
              "         [0.3420],\n",
              "         [0.3560],\n",
              "         [0.3700],\n",
              "         [0.3840],\n",
              "         [0.3980],\n",
              "         [0.4120],\n",
              "         [0.4260]]))"
            ]
          },
          "metadata": {},
          "execution_count": 2
        }
      ]
    },
    {
      "cell_type": "code",
      "source": [
        "# splitting data into training and tests sets - very important\n",
        "# testing/training is usually an 80% 20% split\n",
        "train_split = int(0.8 * len(X))\n",
        "# 40 samples\n",
        "X_train, y_train = X[:train_split], y[:train_split]\n",
        "# remaining 10\n",
        "X_test, y_test = X[train_split:], y[train_split:]\n",
        "\n"
      ],
      "metadata": {
        "id": "327fN-SJZEYB"
      },
      "execution_count": 3,
      "outputs": []
    },
    {
      "cell_type": "code",
      "source": [
        "\n",
        "\"\"\"\n",
        "  plots training data, test data, compares predictions\n",
        "\"\"\"\n",
        "def plot_predictions(train_data=X_train,\n",
        "                     train_labels=y_train,\n",
        "                     test_data=X_test,\n",
        "                     test_lables=y_test,\n",
        "                     predictions=None):\n",
        "    plt.figure(figsize=(10,7))\n",
        "    plt.scatter(train_data, train_labels, c=\"b\", s=4, label=\"Training data\")\n",
        "    plt.scatter(test_data, test_lables, c=\"g\", s=4, label=\"Test data\")\n",
        "\n",
        "    if predictions is not None:\n",
        "      # if perfect, prediction should be on top\n",
        "      plt.scatter(test_data, predictions, c=\"r\", s=4, label=\"Predictions\")\n",
        "\n",
        "    plt.legend(prop = {\"size\": 1})\n",
        "\n",
        "\n"
      ],
      "metadata": {
        "id": "608GdLZectWv"
      },
      "execution_count": 4,
      "outputs": []
    },
    {
      "cell_type": "code",
      "source": [
        "# Building a pytorch linear regression model...y = weight * X + bias\n",
        "from torch import nn\n",
        "\n",
        "# inherits from neural network module. most inherit from that\n",
        "class LinearRegModel(nn.Module):\n",
        "  def __init__(self):\n",
        "    # calls initialize method on parent class\n",
        "    super().__init__()\n",
        "    \"\"\"\n",
        "    nn.Parameter - explicitly a parameter of the model\n",
        "    torch.randn(1,) tensor with random values from a std.dev\n",
        "    requires_grad - tracked for differentation, used for\n",
        "    gradient descent/backprop\n",
        "    torch.float = torch.float32 = default torch datatype\n",
        "    \"\"\"\n",
        "    self.weights = nn.Parameter(torch.randn(1, requires_grad=True,\n",
        "                                            dtype=torch.float))\n",
        "    self.bias = nn.Parameter(torch.randn(1,\n",
        "                                         requires_grad=True,\n",
        "                                         dtype=torch.float))\n",
        "  # defining forward fn . x represents input layer data\n",
        "  def forward(self, x: torch.Tensor) -> torch.Tensor:\n",
        "    return self.weights * x + self.bias\n",
        "\n",
        "\n",
        "\n",
        "\n"
      ],
      "metadata": {
        "id": "a3VDV5UuhC4W"
      },
      "execution_count": 5,
      "outputs": []
    },
    {
      "cell_type": "code",
      "source": [
        "# pytorch model building essentials\n",
        "\"\"\"\n",
        "torch.nn - contains all building blocks for computational graphs\n",
        "torch.nn.Parameter - what parameters should our model try and learn\n",
        "torch.nn.Module - base class for all neural networks\n",
        "if it's subclassed, overwrite forward(), this is required\n",
        "torch.optim - optimizers that help with gradient descent\n",
        "\"\"\"\n"
      ],
      "metadata": {
        "id": "FIahHVO_MtQF",
        "colab": {
          "base_uri": "https://localhost:8080/",
          "height": 71
        },
        "outputId": "3a1bb0eb-2ec4-46c2-fd0f-967113f76e15"
      },
      "execution_count": 6,
      "outputs": [
        {
          "output_type": "execute_result",
          "data": {
            "text/plain": [
              "\"\\ntorch.nn - contains all building blocks for computational graphs\\ntorch.nn.Parameter - what parameters should our model try and learn\\ntorch.nn.Module - base class for all neural networks\\nif it's subclassed, overwrite forward(), this is required\\ntorch.optim - optimizers that help with gradient descent\\n\""
            ],
            "application/vnd.google.colaboratory.intrinsic+json": {
              "type": "string"
            }
          },
          "metadata": {},
          "execution_count": 6
        }
      ]
    },
    {
      "cell_type": "code",
      "source": [
        "# Creating a subclass and messing around with the LinearReg model\n",
        "\n",
        "# set a random seed\n",
        "torch.manual_seed(42)\n",
        "\n",
        "# create an instance of the model\n",
        "\n",
        "model_0 = LinearRegModel()\n",
        "\n",
        "# look at the parameters\n",
        "list(model_0.parameters())\n",
        "\n",
        "# lists the parameters in a more proper way\n",
        "model_0.state_dict()\n",
        "\n"
      ],
      "metadata": {
        "colab": {
          "base_uri": "https://localhost:8080/"
        },
        "id": "VfdkekhsPS5k",
        "outputId": "77cb6241-f05c-4643-9e1a-d1cd76c6e0d1"
      },
      "execution_count": 7,
      "outputs": [
        {
          "output_type": "execute_result",
          "data": {
            "text/plain": [
              "OrderedDict([('weights', tensor([0.3367])), ('bias', tensor([0.1288]))])"
            ]
          },
          "metadata": {},
          "execution_count": 7
        }
      ]
    },
    {
      "cell_type": "code",
      "source": [
        "# making predictions with torch.inference_mode()\n",
        "# inference_mode makes it\n",
        "with torch.inference_mode():\n",
        "  # if model is perfect, the y_preds list should equal y_test\n",
        "  y_preds = model_0(X_test)\n",
        "y_preds\n"
      ],
      "metadata": {
        "colab": {
          "base_uri": "https://localhost:8080/"
        },
        "id": "CRfPpg6o-Lw1",
        "outputId": "272ef154-607b-4268-e336-414b97f897ce"
      },
      "execution_count": 8,
      "outputs": [
        {
          "output_type": "execute_result",
          "data": {
            "text/plain": [
              "tensor([[0.3982],\n",
              "        [0.4049],\n",
              "        [0.4116],\n",
              "        [0.4184],\n",
              "        [0.4251],\n",
              "        [0.4318],\n",
              "        [0.4386],\n",
              "        [0.4453],\n",
              "        [0.4520],\n",
              "        [0.4588]])"
            ]
          },
          "metadata": {},
          "execution_count": 8
        }
      ]
    },
    {
      "cell_type": "code",
      "source": [
        "y_test"
      ],
      "metadata": {
        "colab": {
          "base_uri": "https://localhost:8080/"
        },
        "id": "Hxa5n6luApcG",
        "outputId": "da94386b-79e2-42bf-e906-2f885016b750"
      },
      "execution_count": 9,
      "outputs": [
        {
          "output_type": "execute_result",
          "data": {
            "text/plain": [
              "tensor([[0.8600],\n",
              "        [0.8740],\n",
              "        [0.8880],\n",
              "        [0.9020],\n",
              "        [0.9160],\n",
              "        [0.9300],\n",
              "        [0.9440],\n",
              "        [0.9580],\n",
              "        [0.9720],\n",
              "        [0.9860]])"
            ]
          },
          "metadata": {},
          "execution_count": 9
        }
      ]
    },
    {
      "cell_type": "code",
      "source": [
        "# as of right now, the model isn't too accurate\n",
        "plot_predictions(predictions=y_preds)"
      ],
      "metadata": {
        "colab": {
          "base_uri": "https://localhost:8080/",
          "height": 599
        },
        "id": "RmDntHJLDH02",
        "outputId": "c21d11a6-6204-4f40-c683-da8de4288e3c"
      },
      "execution_count": 10,
      "outputs": [
        {
          "output_type": "display_data",
          "data": {
            "text/plain": [
              "<Figure size 1000x700 with 1 Axes>"
            ],
            "image/png": "[encoded data removed]"
          },
          "metadata": {}
        }
      ]
    },
    {
      "cell_type": "code",
      "source": [
        "# actually training the model - setting up a loss fn and optimizer\n",
        "\n",
        "torch.manual_seed(42)\n",
        " # L1 Loss fn\n",
        "loss_fn = nn.L1Loss()\n",
        "\n",
        "\"\"\"\n",
        "optimizer using stochastic gradient descent\n",
        "learning rate is like a measure of precision for\n",
        "how much w and b are updated\n",
        "\"\"\"\n",
        "optimizer = torch.optim.SGD(params=model_0.parameters(), lr=0.01)\n",
        "\n",
        "# building a training and testing loop\n",
        "# loop through the data\n",
        "# forward pass the data\n",
        "# calculate loss - compare foward pass predictions to labels\n",
        "# optimizer zero grad\n",
        "# Loss backward - move backwards/backprop to calc gradient of each param\n",
        "# with respect to loss\n",
        "# Optimizer step - use optimizer to adjust model's parameters(gradient descent)\n",
        "\n",
        "# an epoch is one loop through the data\n",
        "# this is a hyperparameter since it's user set\n",
        "epochs = 100\n",
        "\n",
        "# loop through the data\n",
        "for epoch in range(epochs):\n",
        "  # set the model to training mode.\n",
        "  # any params that need gradients are set to require_gradient=true\n",
        "  model_0.train()\n",
        "\n",
        "  # forward pass\n",
        "  y_pred = model_0(X_train)\n",
        "\n",
        "  # calculate the loss between model predictions and ideal training values\n",
        "  loss = loss_fn(y_pred, y_train)\n",
        "  print(f\"Loss: {loss}\")\n",
        "\n",
        "  # initialize gradients to zero for each epoch\n",
        "  optimizer.zero_grad()\n",
        "\n",
        "  # perform backpropagation w/ respect to parameters\n",
        "  loss.backward()\n",
        "\n",
        "  # step the optimizer, always after backprop\n",
        "  # how the optimizer changes will accumulate through the loop\n",
        "  optimizer.step()\n",
        "\n"
      ],
      "metadata": {
        "id": "q6xL7rjwM_Ha",
        "colab": {
          "base_uri": "https://localhost:8080/"
        },
        "outputId": "5c9641f9-5b24-4812-ba61-0d466bfed801"
      },
      "execution_count": 82,
      "outputs": [
        {
          "output_type": "stream",
          "name": "stdout",
          "text": [
            "Loss: 0.04202762991189957\n",
            "Loss: 0.04167863354086876\n",
            "Loss: 0.04132963344454765\n",
            "Loss: 0.04098063334822655\n",
            "Loss: 0.04063162952661514\n",
            "Loss: 0.040282636880874634\n",
            "Loss: 0.039933640509843826\n",
            "Loss: 0.03958464413881302\n",
            "Loss: 0.03923564404249191\n",
            "Loss: 0.03888664394617081\n",
            "Loss: 0.0385376438498497\n",
            "Loss: 0.03818932920694351\n",
            "Loss: 0.03785243630409241\n",
            "Loss: 0.0375034399330616\n",
            "Loss: 0.037164121866226196\n",
            "Loss: 0.03681822493672371\n",
            "Loss: 0.03647511452436447\n",
            "Loss: 0.03613303601741791\n",
            "Loss: 0.03578609973192215\n",
            "Loss: 0.03544783592224121\n",
            "Loss: 0.035098835825920105\n",
            "Loss: 0.03476089984178543\n",
            "Loss: 0.03441363573074341\n",
            "Loss: 0.03407188132405281\n",
            "Loss: 0.03372843936085701\n",
            "Loss: 0.03338287025690079\n",
            "Loss: 0.033043231815099716\n",
            "Loss: 0.03269423171877861\n",
            "Loss: 0.032357655465602875\n",
            "Loss: 0.03200903534889221\n",
            "Loss: 0.03166864812374115\n",
            "Loss: 0.03132382780313492\n",
            "Loss: 0.030979642644524574\n",
            "Loss: 0.030638623982667923\n",
            "Loss: 0.0302906334400177\n",
            "Loss: 0.029953425750136375\n",
            "Loss: 0.02960442565381527\n",
            "Loss: 0.029265418648719788\n",
            "Loss: 0.028919223695993423\n",
            "Loss: 0.028576409444212914\n",
            "Loss: 0.028234025463461876\n",
            "Loss: 0.02788739837706089\n",
            "Loss: 0.02754882536828518\n",
            "Loss: 0.027199819684028625\n",
            "Loss: 0.026862185448408127\n",
            "Loss: 0.02651461586356163\n",
            "Loss: 0.026173178106546402\n",
            "Loss: 0.025829419493675232\n",
            "Loss: 0.02548416517674923\n",
            "Loss: 0.025144213810563087\n",
            "Loss: 0.02479521557688713\n",
            "Loss: 0.024458957836031914\n",
            "Loss: 0.024110013619065285\n",
            "Loss: 0.02376994863152504\n",
            "Loss: 0.02342480979859829\n",
            "Loss: 0.023080935701727867\n",
            "Loss: 0.022739607840776443\n",
            "Loss: 0.022391926497220993\n",
            "Loss: 0.022054409608244896\n",
            "Loss: 0.02170540764927864\n",
            "Loss: 0.021366719156503677\n",
            "Loss: 0.021020207554101944\n",
            "Loss: 0.020677709951996803\n",
            "Loss: 0.02033500373363495\n",
            "Loss: 0.01998869702219963\n",
            "Loss: 0.019649803638458252\n",
            "Loss: 0.019300809130072594\n",
            "Loss: 0.018963487818837166\n",
            "Loss: 0.01861560344696045\n",
            "Loss: 0.018274478614330292\n",
            "Loss: 0.017930403351783752\n",
            "Loss: 0.01758546568453312\n",
            "Loss: 0.017245199531316757\n",
            "Loss: 0.016896454617381096\n",
            "Loss: 0.01656000316143036\n",
            "Loss: 0.016210997477173805\n",
            "Loss: 0.01587124727666378\n",
            "Loss: 0.015525798313319683\n",
            "Loss: 0.015182236209511757\n",
            "Loss: 0.014840595424175262\n",
            "Loss: 0.01449323259294033\n",
            "Loss: 0.014155393466353416\n",
            "Loss: 0.013806397095322609\n",
            "Loss: 0.013468016870319843\n",
            "Loss: 0.013121193274855614\n",
            "Loss: 0.01277900766581297\n",
            "Loss: 0.012435992248356342\n",
            "Loss: 0.01208999752998352\n",
            "Loss: 0.011750795878469944\n",
            "Loss: 0.011401787400245667\n",
            "Loss: 0.011064787395298481\n",
            "Loss: 0.010716589167714119\n",
            "Loss: 0.010375778190791607\n",
            "Loss: 0.010031387209892273\n",
            "Loss: 0.009686763398349285\n",
            "Loss: 0.009346187114715576\n",
            "Loss: 0.008997755125164986\n",
            "Loss: 0.008660981431603432\n",
            "Loss: 0.008311985060572624\n",
            "Loss: 0.007972544990479946\n"
          ]
        }
      ]
    },
    {
      "cell_type": "code",
      "source": [
        "model_0.state_dict()"
      ],
      "metadata": {
        "colab": {
          "base_uri": "https://localhost:8080/"
        },
        "id": "KCqKS5be1PVo",
        "outputId": "7e93113a-9e34-4ec7-f77c-cd3d759ed057"
      },
      "execution_count": 72,
      "outputs": [
        {
          "output_type": "execute_result",
          "data": {
            "text/plain": [
              "OrderedDict([('weights', tensor([0.4902])), ('bias', tensor([0.3853]))])"
            ]
          },
          "metadata": {},
          "execution_count": 72
        }
      ]
    },
    {
      "cell_type": "code",
      "source": [
        "# after training the model multiple times\n",
        "# and updating weights and biases\n",
        "with torch.inference_mode():\n",
        "  y_preds_new = model_0(X_test)\n",
        "\n",
        ""
      ],
      "metadata": {
        "id": "9bf-vrmr23fL"
      },
      "execution_count": 83,
      "outputs": []
    },
    {
      "cell_type": "code",
      "source": [
        "# much more accurate after manually running an epoch a few times\n",
        "plot_predictions(predictions=y_preds_new)"
      ],
      "metadata": {
        "colab": {
          "base_uri": "https://localhost:8080/",
          "height": 599
        },
        "id": "ksnCGXnJ4MBI",
        "outputId": "82f627bc-1ff6-404d-b74c-8480a63a3cea"
      },
      "execution_count": 84,
      "outputs": [
        {
          "output_type": "display_data",
          "data": {
            "text/plain": [
              "<Figure size 1000x700 with 1 Axes>"
            ],
            "image/png": "[encoded data removed]"
          },
          "metadata": {}
        }
      ]
    },
    {
      "cell_type": "code",
      "source": [],
      "metadata": {
        "id": "2iKIyFxl4_Tz"
      },
      "execution_count": null,
      "outputs": []
    }
  ]
}