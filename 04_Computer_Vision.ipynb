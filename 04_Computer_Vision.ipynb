{
  "nbformat": 4,
  "nbformat_minor": 0,
  "metadata": {
    "colab": {
      "provenance": [],
      "gpuType": "T4",
      "authorship_tag": "ABX9TyMHESq8GfvS1U2MpudkEEFY",
      "include_colab_link": true
    },
    "kernelspec": {
      "name": "python3",
      "display_name": "Python 3"
    },
    "language_info": {
      "name": "python"
    },
    "accelerator": "GPU"
  },
  "cells": [
    {
      "cell_type": "markdown",
      "metadata": {
        "id": "view-in-github",
        "colab_type": "text"
      },
      "source": [
        "<a href=\"https://colab.research.google.com/github/Greg-Vincent0711/Learning-Pytorch/blob/main/04_Computer_Vision.ipynb\" target=\"_parent\"><img src=\"https://colab.research.google.com/assets/colab-badge.svg\" alt=\"Open In Colab\"/></a>"
      ]
    },
    {
      "cell_type": "code",
      "execution_count": 1,
      "metadata": {
        "id": "GuQzytIXtOPv"
      },
      "outputs": [],
      "source": [
        "import torch\n",
        "from torch import nn\n",
        "import torchvision\n",
        "from torchvision import datasets\n",
        "from torchvision import transforms\n",
        "from torchvision.transforms import ToTensor\n",
        "import matplotlib.pyplot as plt\n"
      ]
    },
    {
      "cell_type": "code",
      "source": [
        "# setting up training data\n",
        "train_data = datasets.FashionMNIST(\n",
        "    root=\"data\", # where data is being downloaded\n",
        "    train=True, # get training split\n",
        "    download=True,\n",
        "    # images need to be tensors to work with a model\n",
        "    transform=ToTensor(),\n",
        "    # don't transform labels\n",
        "    target_transform=None\n",
        ")\n",
        "\n",
        "# setting up testing data\n",
        "test_data = datasets.FashionMNIST(\n",
        "    root=\"data\",\n",
        "    train=False, # get testing split\n",
        "    download=True,\n",
        "    transform=ToTensor(),\n",
        "    target_transform=None\n",
        ")\n",
        "\n"
      ],
      "metadata": {
        "id": "WE-FyPbvwOX4"
      },
      "execution_count": 2,
      "outputs": []
    },
    {
      "cell_type": "code",
      "source": [
        "class_names = train_data.classes\n",
        "test_classes = test_data.classes"
      ],
      "metadata": {
        "id": "tw7_hM0i2Soj"
      },
      "execution_count": 3,
      "outputs": []
    },
    {
      "cell_type": "code",
      "source": [
        "# image, label = train_data[0]\n",
        "# # plt expects height and width, no color channel\n",
        "# plt.imshow(image.squeeze())\n",
        "# plt.title(train_classes[label])"
      ],
      "metadata": {
        "id": "I29aP8cnzRia"
      },
      "execution_count": 4,
      "outputs": []
    },
    {
      "cell_type": "code",
      "source": [
        "# plt.imshow(image.squeeze(), cmap=\"gray\")\n",
        "# plt.title(train_classes[label])\n",
        "# plt.axis(False)"
      ],
      "metadata": {
        "id": "7udPXHDv2x08"
      },
      "execution_count": 5,
      "outputs": []
    },
    {
      "cell_type": "code",
      "source": [
        "# # just getting an idea of what the data looks like\n",
        "# fig = plt.figure(figsize=(9, 9))\n",
        "# rows, cols = 4,4\n",
        "# for i in range(1, rows * cols+1):\n",
        "#   random_index = torch.randint(0, len(train_data), size=[1]).item()\n",
        "#   image, label = train_data[random_index]\n",
        "#   fig.add_subplot(rows, cols, i)\n",
        "#   plt.imshow(image.squeeze(), cmap=\"gray\")\n",
        "#   plt.title(train_classes[label])\n"
      ],
      "metadata": {
        "id": "tJH6AqRM3DuX"
      },
      "execution_count": 6,
      "outputs": []
    },
    {
      "cell_type": "code",
      "source": [
        "# preparing a dataloader\n",
        "# dataset -> dataloader(turns data into a python iterable )\n",
        "from torch.utils.data import DataLoader\n",
        "BATCH_SIZE = 32\n",
        "# shuffle training data so model doesn't learn img order\n",
        "dataLoader_Train = DataLoader(train_data, BATCH_SIZE, True)\n",
        "# shuffle doesn't matter for testing\n",
        "dataLoader_Test = DataLoader(test_data, BATCH_SIZE, False)"
      ],
      "metadata": {
        "id": "9-T0RQqX4CyG"
      },
      "execution_count": 7,
      "outputs": []
    },
    {
      "cell_type": "code",
      "source": [
        "# # interacting with a dataloader\n",
        "# train_features_batch, train_labels_batch = next(iter(dataLoader_Train))\n",
        "# plt.imshow(train_features_batch[0].squeeze(), cmap=\"gray\")\n",
        "# plt.axis(False)\n",
        "# plt.title(train_classes[0])\n"
      ],
      "metadata": {
        "id": "vixonW-89TkG"
      },
      "execution_count": 8,
      "outputs": []
    },
    {
      "cell_type": "code",
      "source": [
        "class FashionMNISTModelV0(nn.Module):\n",
        "  def __init__(self, input_shape:int,\n",
        "               hidden_units: int,\n",
        "               output_shape: int):\n",
        "    super().__init__()\n",
        "    self.layer_stack = nn.Sequential(\n",
        "        # reduce dims of input\n",
        "        nn.Flatten(),\n",
        "        nn.Linear(in_features=input_shape,\n",
        "                  out_features=hidden_units),\n",
        "        nn.Linear(in_features=hidden_units,\n",
        "                  out_features=output_shape))\n",
        "  def forward(self, input):\n",
        "    return self.layer_stack(input)\n"
      ],
      "metadata": {
        "id": "kgAmA9oUM07Z"
      },
      "execution_count": 9,
      "outputs": []
    },
    {
      "cell_type": "code",
      "source": [
        "torch.manual_seed(42)\n",
        "\n",
        "model_0 = FashionMNISTModelV0(\n",
        "    # refers to shape of input data\n",
        "    input_shape=28*28,\n",
        "    hidden_units=10,\n",
        "    output_shape=len(class_names)\n",
        ").to(\"cpu\")"
      ],
      "metadata": {
        "id": "6Cco7bxFM4BG"
      },
      "execution_count": 10,
      "outputs": []
    },
    {
      "cell_type": "code",
      "source": [
        "def calculateAccuracy(y_true, y_pred):\n",
        "  correct = torch.eq(y_true, y_pred).sum().item()\n",
        "  return (correct / len(y_pred)) * 100"
      ],
      "metadata": {
        "id": "CnG-mpu_aWpi"
      },
      "execution_count": 11,
      "outputs": []
    },
    {
      "cell_type": "code",
      "source": [
        "# setting up a loss, optimizer and evaluation metrics\n",
        "\n",
        "# we're using multi-class data, so loss fn is CrossEntropy\n",
        "# optimizer is still SGD\n",
        "loss = nn.CrossEntropyLoss()\n",
        "optimizer = torch.optim.SGD(model_0.parameters(), lr=0.1)"
      ],
      "metadata": {
        "id": "wJHGvcOZYE6P"
      },
      "execution_count": 12,
      "outputs": []
    },
    {
      "cell_type": "code",
      "source": [
        "# fn to track model speed\n",
        "from timeit import default_timer as timer\n",
        "def print_training_time(startTime:float,\n",
        "                        endTime:float,\n",
        "                        device:torch.device = None):\n",
        "  runTime = endTime - startTime\n",
        "  print(f\"Training time for {device}:{runTime:.3f} seconds \")\n",
        "  return runTime\n"
      ],
      "metadata": {
        "id": "mgpCJw6BapXZ"
      },
      "execution_count": 13,
      "outputs": []
    },
    {
      "cell_type": "code",
      "source": [
        "# training/testing model\n",
        "# for now, I'm writing both loops out to practice, but will functionize\n",
        "torch.manual_seed(42)\n",
        "# start timer on run\n",
        "cpuStartTime = timer()\n",
        "# lower epochs = faster training time\n",
        "epochs = 3\n",
        "for epoch in range((epochs)):\n",
        "  print(f\"Epoch # {epoch}\")\n",
        "  train_loss = 0\n",
        "  # loop through training batches\n",
        "  for batch, (train_image, label) in enumerate(dataLoader_Train):\n",
        "    model_0.train()\n",
        "    # create training predictions\n",
        "    image_training_preds = model_0(train_image)\n",
        "    # calculate loss and accuracy\n",
        "    lossamnt = loss(image_training_preds, label)\n",
        "    train_loss += lossamnt\n",
        "    # zero optimizer, backprop, update weights with optimizer step\n",
        "    optimizer.zero_grad()\n",
        "    lossamnt.backward()\n",
        "    optimizer.step()\n",
        "\n",
        "  # avg out training loss over all\n",
        "  train_loss /= len(dataLoader_Train)\n",
        "\n",
        "  test_loss, test_acc = 0,0\n",
        "  model_0.eval()\n",
        "  # no gradient tracking for a performance boost\n",
        "  with torch.inference_mode():\n",
        "    for test_image, label in dataLoader_Test:\n",
        "        image_testing_preds = model_0(test_image)\n",
        "        test_loss += loss(image_testing_preds, label)\n",
        "        # use argmax because chosen pred is based on max of probabilites\n",
        "        # passing that in over logits. dim=1 refers to column values in a row\n",
        "        test_acc += calculateAccuracy(label, image_testing_preds.argmax(dim=1))\n",
        "    # avg test loss and acc per batch\n",
        "    test_loss /= len(dataLoader_Test)\n",
        "    test_acc /= len(dataLoader_Test)\n",
        "  print(f\"\\n Train Loss {train_loss:.4f} | Test Loss: {test_loss:4f}, Test Acc: {test_acc:4f}\")\n",
        "\n",
        "# find training time\n",
        "cpuEndTime = timer()\n",
        "trainTime_model_0 = print_training_time(cpuStartTime,\n",
        "                                        cpuEndTime,\n",
        "                                        str(next(model_0.parameters()).device))"
      ],
      "metadata": {
        "id": "dnMQnYQ5fMWn",
        "colab": {
          "base_uri": "https://localhost:8080/"
        },
        "outputId": "8422c6f0-2c6f-4bb2-ef30-93149ab87733"
      },
      "execution_count": 14,
      "outputs": [
        {
          "output_type": "stream",
          "name": "stdout",
          "text": [
            "Epoch # 0\n",
            "\n",
            " Train Loss 0.5904 | Test Loss: 0.509535, Test Acc: 82.038738\n",
            "Epoch # 1\n",
            "\n",
            " Train Loss 0.4763 | Test Loss: 0.479890, Test Acc: 83.196885\n",
            "Epoch # 2\n",
            "\n",
            " Train Loss 0.4550 | Test Loss: 0.476639, Test Acc: 83.426518\n",
            "Training time for cpu:28.397 seconds \n"
          ]
        }
      ]
    },
    {
      "cell_type": "code",
      "source": [
        "# functionalizing testing loop\n",
        "torch.manual_seed(42)\n",
        "def eval_model(model: torch.nn.Module,\n",
        "               data_loader: torch.utils.data.DataLoader,\n",
        "               loss_fn: torch.nn.Module,\n",
        "               accuracy_fn,\n",
        "               device: torch.device = None):\n",
        "  loss, acc = 0,0\n",
        "  model.eval()\n",
        "  with torch.inference_mode():\n",
        "    for image, label in data_loader:\n",
        "      image,label = image.to(device),label.to(device)\n",
        "      model_preds = model(image)\n",
        "      # accumulating loss/acc values per batch\n",
        "      loss += loss_fn(model_preds, label)\n",
        "      acc += accuracy_fn(label, model_preds.argmax(dim=1))\n",
        "    # find avg loss/acc per batch\n",
        "    loss /= len(data_loader)\n",
        "    acc /= len(data_loader)\n",
        "    return {\n",
        "        \"model_name\": model.__class__.__name__,\n",
        "        \"model_test_loss\": loss.item(),\n",
        "        \"model_test_acc\": acc\n",
        "        }\n",
        "\n",
        "model_0_results = eval_model(model_0,\n",
        "                             dataLoader_Test,\n",
        "                             loss,\n",
        "                             calculateAccuracy)\n",
        "model_0_results"
      ],
      "metadata": {
        "colab": {
          "base_uri": "https://localhost:8080/"
        },
        "id": "VAXTEtH6gWyK",
        "outputId": "343c4c5d-b85e-4ab9-a069-721905cf8a8f"
      },
      "execution_count": 15,
      "outputs": [
        {
          "output_type": "execute_result",
          "data": {
            "text/plain": [
              "{'model_name': 'FashionMNISTModelV0',\n",
              " 'model_test_loss': 0.47663894295692444,\n",
              " 'model_test_acc': 83.42651757188499}"
            ]
          },
          "metadata": {},
          "execution_count": 15
        }
      ]
    },
    {
      "cell_type": "code",
      "source": [
        "device = \"cuda\" if torch.cuda.is_available() else \"cpu\"\n",
        "# designing a device agnostic model with non-linearity\n",
        "class FashionMNISTModelV1(nn.Module):\n",
        "  def __init__(self, input_shape:int,\n",
        "               hidden_units: int,\n",
        "               output_shape: int):\n",
        "    super().__init__()\n",
        "    self.layer_stack = nn.Sequential(\n",
        "        # reduce input to a single vector\n",
        "        nn.Flatten(),\n",
        "        nn.Linear(in_features=input_shape,\n",
        "                  out_features=hidden_units),\n",
        "        nn.ReLU(),\n",
        "        nn.Linear(in_features=hidden_units,\n",
        "                  out_features=output_shape),\n",
        "        nn.ReLU()\n",
        "        )\n",
        "  def forward(self, input):\n",
        "    return self.layer_stack(input)"
      ],
      "metadata": {
        "id": "7lk3HIqFg4T9"
      },
      "execution_count": 16,
      "outputs": []
    },
    {
      "cell_type": "code",
      "source": [
        "# model is made with random numbers\n",
        "torch.manual_seed(42)\n",
        "model_1 = FashionMNISTModelV1(input_shape=784,\n",
        "                              hidden_units=10,\n",
        "                              output_shape=len(test_classes)).to(device)\n",
        "next(model_1.parameters()).device\n"
      ],
      "metadata": {
        "colab": {
          "base_uri": "https://localhost:8080/"
        },
        "id": "dJzVxVzH5YGz",
        "outputId": "a18f7e2e-c504-4f11-d422-e00404f5434d"
      },
      "execution_count": 17,
      "outputs": [
        {
          "output_type": "execute_result",
          "data": {
            "text/plain": [
              "device(type='cuda', index=0)"
            ]
          },
          "metadata": {},
          "execution_count": 17
        }
      ]
    },
    {
      "cell_type": "code",
      "source": [
        "m1Loss = nn.CrossEntropyLoss()\n",
        "m1Optimizer = torch.optim.SGD(model_1.parameters(), lr=0.1)\n",
        "\n",
        "# functionizing training loop\n",
        "\n",
        "def train_model(model:torch.nn.Module,\n",
        "               data_loader: torch.utils.data.DataLoader,\n",
        "               loss_fn:torch.nn.Module,\n",
        "               optimizer: torch.optim.Optimizer,\n",
        "               accuracy_fn,\n",
        "               device: torch.device = device):\n",
        "  train_loss, train_acc = 0,0\n",
        "  model.train()\n",
        "  for batch, (train_image, label) in enumerate(data_loader):\n",
        "    train_image, label = train_image.to(device), label.to(device)\n",
        "    # create training predictions\n",
        "    image_training_preds = model(train_image)\n",
        "    # calculate loss and accuracy\n",
        "    loss = loss_fn(image_training_preds, label)\n",
        "    train_loss += loss\n",
        "    train_acc += accuracy_fn(label, image_training_preds.argmax(dim=1))\n",
        "    # zero optimizer, backprop, update weights with optimizer step\n",
        "    optimizer.zero_grad()\n",
        "    loss.backward()\n",
        "    optimizer.step()\n",
        "  # avg out training loss over all\n",
        "  train_loss /= len(data_loader)\n",
        "  train_acc /= len(data_loader)\n",
        "  return {\n",
        "    \"model_name\": model.__class__.__name__,\n",
        "    \"train_loss\": train_loss,\n",
        "    \"train_acc\": train_acc\n",
        "  }"
      ],
      "metadata": {
        "id": "lftDSZ_757R_"
      },
      "execution_count": 18,
      "outputs": []
    },
    {
      "cell_type": "code",
      "source": [
        "from timeit import default_timer as timer\n",
        "gpuTimeStart = timer()\n",
        "epochs = 3\n",
        "for epoch in range((epochs)):\n",
        "  train_model(model_1,\n",
        "              dataLoader_Train,\n",
        "              m1Loss,\n",
        "              m1Optimizer,\n",
        "              calculateAccuracy,\n",
        "              device)\n",
        "  eval_model(model_1,\n",
        "             dataLoader_Test,\n",
        "             m1Loss,\n",
        "             calculateAccuracy,\n",
        "             device)\n",
        "gpuTimeEnd = timer()\n",
        "gpuTrainTime = print_training_time(gpuTimeStart,\n",
        "                        gpuTimeEnd,\n",
        "                        str(next(model_1.parameters()).device))\n",
        "\n"
      ],
      "metadata": {
        "colab": {
          "base_uri": "https://localhost:8080/"
        },
        "id": "b__74RoGOIcG",
        "outputId": "56a74128-2806-42b7-ddfb-260e90983faa"
      },
      "execution_count": 19,
      "outputs": [
        {
          "output_type": "stream",
          "name": "stdout",
          "text": [
            "Training time for cuda:0:29.899 seconds \n"
          ]
        }
      ]
    },
    {
      "cell_type": "code",
      "source": [
        "model_1_results = eval_model(model_1,\n",
        "             dataLoader_Test,\n",
        "             m1Loss,\n",
        "             calculateAccuracy,\n",
        "             device)\n",
        "# a non CNN model in the gpu is much slower\n",
        "model_0_results, model_1_results"
      ],
      "metadata": {
        "colab": {
          "base_uri": "https://localhost:8080/"
        },
        "id": "j_GDoi4jYFvj",
        "outputId": "7ec56534-2888-4a8a-8738-316211b39c4a"
      },
      "execution_count": 20,
      "outputs": [
        {
          "output_type": "execute_result",
          "data": {
            "text/plain": [
              "({'model_name': 'FashionMNISTModelV0',\n",
              "  'model_test_loss': 0.47663894295692444,\n",
              "  'model_test_acc': 83.42651757188499},\n",
              " {'model_name': 'FashionMNISTModelV1',\n",
              "  'model_test_loss': 0.8947636485099792,\n",
              "  'model_test_acc': 66.46365814696486})"
            ]
          },
          "metadata": {},
          "execution_count": 20
        }
      ]
    },
    {
      "cell_type": "code",
      "source": [
        "# CNN section starts below"
      ],
      "metadata": {
        "id": "CrdghoJtYwQi"
      },
      "execution_count": 21,
      "outputs": []
    },
    {
      "cell_type": "code",
      "source": [
        "device = \"cuda\" if torch.cuda.is_available() else \"cpu\"\n",
        "# creating a CNN - replicates Tiny VGG\n",
        "class FashionMNISTModelV2(nn.Module):\n",
        "  def __init__(self,input_shape:int,\n",
        "               hidden_units:int,\n",
        "               output_shape:int):\n",
        "    super().__init__()\n",
        "    # one block has conv layer -> ReLU -> pooling\n",
        "    self.block_1 = nn.Sequential(\n",
        "        nn.Conv2d(in_channels=input_shape,\n",
        "                  out_channels=hidden_units,\n",
        "                  # size of the filter\n",
        "                  kernel_size=3,\n",
        "                  # how much ground the filter covers at a time\n",
        "                  stride=1,\n",
        "                  # how much space to put around an image\n",
        "                  padding=1),\n",
        "        nn.ReLU(),\n",
        "        nn.Conv2d(in_channels=hidden_units,\n",
        "                  out_channels=hidden_units,\n",
        "                  kernel_size=3,\n",
        "                  stride=1,\n",
        "                  padding=1),\n",
        "        nn.ReLU(),\n",
        "        nn.MaxPool2d(kernel_size=2)\n",
        "    )\n",
        "    self.block_2 = nn.Sequential(\n",
        "        nn.Conv2d(in_channels=hidden_units,\n",
        "                  out_channels=hidden_units,\n",
        "                  kernel_size=3,\n",
        "                  stride=1,\n",
        "                  padding=1),\n",
        "        nn.ReLU(),\n",
        "        nn.Conv2d(in_channels=hidden_units,\n",
        "                  out_channels=hidden_units,\n",
        "                  kernel_size=3,\n",
        "                  stride=1,\n",
        "                  padding=1),\n",
        "        nn.ReLU(),\n",
        "        nn.MaxPool2d(kernel_size=2)\n",
        "    )\n",
        "    self.classifierLayer = nn.Sequential(\n",
        "        # output of two blocks is multidimensional tensor\n",
        "        # needs to be a single dimensional tensor\n",
        "        # for a fully connected layer\n",
        "        nn.Flatten(),\n",
        "        # we need to mulitply the linear layers' input dims\n",
        "        # by the dims of the output from the 2nd conv block\n",
        "        # hence the 7*7. this avoids a shape runtime error\n",
        "        nn.Linear(in_features=hidden_units*7*7,\n",
        "                  out_features=len(class_names))\n",
        "        )\n",
        "  def forward(self, input):\n",
        "    input = self.block_1(input)\n",
        "    input = self.block_2(input)\n",
        "    return self.classifierLayer(input)\n"
      ],
      "metadata": {
        "id": "9FjXzo_lmJnM"
      },
      "execution_count": 22,
      "outputs": []
    },
    {
      "cell_type": "code",
      "source": [
        "torch.manual_seed(42)\n",
        "cnnModel = FashionMNISTModelV2(\n",
        "    # only one color channel since imgs are black and white\n",
        "    input_shape=1,\n",
        "    hidden_units=10,\n",
        "    output_shape=len(class_names)\n",
        ").to(device)"
      ],
      "metadata": {
        "id": "Dd9e-FaYmPlL"
      },
      "execution_count": 35,
      "outputs": []
    },
    {
      "cell_type": "code",
      "source": [
        "cnnLoss = nn.CrossEntropyLoss()\n",
        "cnnOptim = torch.optim.SGD(params=cnnModel.parameters(), lr=0.1)\n",
        "from timeit import default_timer as timer\n",
        "cnnModelStart = timer()\n",
        "epochs = 3\n",
        "for epoch in range(epochs):\n",
        "    train_model(cnnModel,\n",
        "                dataLoader_Train,\n",
        "                cnnLoss,\n",
        "                cnnOptim,\n",
        "                calculateAccuracy,\n",
        "                device=device)\n",
        "    eval_model(cnnModel,\n",
        "               dataLoader_Test,\n",
        "               cnnLoss,\n",
        "               calculateAccuracy,\n",
        "               device=device\n",
        "               )\n",
        "cnnModelEnd = timer()\n",
        "cnnModelTrainTime = print_training_time(cnnModelStart,\n",
        "                        cnnModelEnd,\n",
        "                        str(next(cnnModel.parameters()).device))\n",
        "cnnModel_results = eval_model(cnnModel,\n",
        "               dataLoader_Test,\n",
        "               cnnLoss,\n",
        "               calculateAccuracy,\n",
        "               device=device\n",
        "               )\n"
      ],
      "metadata": {
        "colab": {
          "base_uri": "https://localhost:8080/"
        },
        "id": "7nRkltV1mQU6",
        "outputId": "8377ab26-9d50-49eb-a8e0-f3f266971ef2"
      },
      "execution_count": 33,
      "outputs": [
        {
          "output_type": "stream",
          "name": "stdout",
          "text": [
            "Training time for cuda:0:35.956 seconds \n"
          ]
        }
      ]
    },
    {
      "cell_type": "code",
      "source": [
        "# higher accuracy than a regular NN easily\n",
        "# compared to two non-cnn nets on a gpu and cpu\n",
        "import pandas as pd\n",
        "compare_results = pd.DataFrame([model_0_results,\n",
        "                               model_1_results,\n",
        "                               cnnModel_results])\n",
        "compare_results[\"training_time\"] = [trainTime_model_0,\n",
        "                                    gpuTrainTime,\n",
        "                                    cnnModelTrainTime]\n",
        "compare_results"
      ],
      "metadata": {
        "colab": {
          "base_uri": "https://localhost:8080/",
          "height": 143
        },
        "id": "LutvXexu_xD8",
        "outputId": "a1da2b80-263c-4666-ad41-c1682c7c9236"
      },
      "execution_count": 37,
      "outputs": [
        {
          "output_type": "execute_result",
          "data": {
            "text/plain": [
              "            model_name  model_test_loss  model_test_acc  training_time\n",
              "0  FashionMNISTModelV0         0.476639       83.426518      28.397385\n",
              "1  FashionMNISTModelV1         0.894764       66.463658      29.898821\n",
              "2  FashionMNISTModelV2         0.290046       89.856230      35.956197"
            ],
            "text/html": [
              "\n",
              "  <div id=\"df-95e4dc92-f68d-43ae-bcbb-1f94dd3396ae\" class=\"colab-df-container\">\n",
              "    <div>\n",
              "<style scoped>\n",
              "    .dataframe tbody tr th:only-of-type {\n",
              "        vertical-align: middle;\n",
              "    }\n",
              "\n",
              "    .dataframe tbody tr th {\n",
              "        vertical-align: top;\n",
              "    }\n",
              "\n",
              "    .dataframe thead th {\n",
              "        text-align: right;\n",
              "    }\n",
              "</style>\n",
              "<table border=\"1\" class=\"dataframe\">\n",
              "  <thead>\n",
              "    <tr style=\"text-align: right;\">\n",
              "      <th></th>\n",
              "      <th>model_name</th>\n",
              "      <th>model_test_loss</th>\n",
              "      <th>model_test_acc</th>\n",
              "      <th>training_time</th>\n",
              "    </tr>\n",
              "  </thead>\n",
              "  <tbody>\n",
              "    <tr>\n",
              "      <th>0</th>\n",
              "      <td>FashionMNISTModelV0</td>\n",
              "      <td>0.476639</td>\n",
              "      <td>83.426518</td>\n",
              "      <td>28.397385</td>\n",
              "    </tr>\n",
              "    <tr>\n",
              "      <th>1</th>\n",
              "      <td>FashionMNISTModelV1</td>\n",
              "      <td>0.894764</td>\n",
              "      <td>66.463658</td>\n",
              "      <td>29.898821</td>\n",
              "    </tr>\n",
              "    <tr>\n",
              "      <th>2</th>\n",
              "      <td>FashionMNISTModelV2</td>\n",
              "      <td>0.290046</td>\n",
              "      <td>89.856230</td>\n",
              "      <td>35.956197</td>\n",
              "    </tr>\n",
              "  </tbody>\n",
              "</table>\n",
              "</div>\n",
              "    <div class=\"colab-df-buttons\">\n",
              "\n",
              "  <div class=\"colab-df-container\">\n",
              "    <button class=\"colab-df-convert\" onclick=\"convertToInteractive('df-95e4dc92-f68d-43ae-bcbb-1f94dd3396ae')\"\n",
              "            title=\"Convert this dataframe to an interactive table.\"\n",
              "            style=\"display:none;\">\n",
              "\n",
              "  <svg xmlns=\"http://www.w3.org/2000/svg\" height=\"24px\" viewBox=\"0 -960 960 960\">\n",
              "    <path d=\"M120-120v-720h720v720H120Zm60-500h600v-160H180v160Zm220 220h160v-160H400v160Zm0 220h160v-160H400v160ZM180-400h160v-160H180v160Zm440 0h160v-160H620v160ZM180-180h160v-160H180v160Zm440 0h160v-160H620v160Z\"/>\n",
              "  </svg>\n",
              "    </button>\n",
              "\n",
              "  <style>\n",
              "    .colab-df-container {\n",
              "      display:flex;\n",
              "      gap: 12px;\n",
              "    }\n",
              "\n",
              "    .colab-df-convert {\n",
              "      background-color: #E8F0FE;\n",
              "      border: none;\n",
              "      border-radius: 50%;\n",
              "      cursor: pointer;\n",
              "      display: none;\n",
              "      fill: #1967D2;\n",
              "      height: 32px;\n",
              "      padding: 0 0 0 0;\n",
              "      width: 32px;\n",
              "    }\n",
              "\n",
              "    .colab-df-convert:hover {\n",
              "      background-color: #E2EBFA;\n",
              "      box-shadow: 0px 1px 2px rgba(60, 64, 67, 0.3), 0px 1px 3px 1px rgba(60, 64, 67, 0.15);\n",
              "      fill: #174EA6;\n",
              "    }\n",
              "\n",
              "    .colab-df-buttons div {\n",
              "      margin-bottom: 4px;\n",
              "    }\n",
              "\n",
              "    [theme=dark] .colab-df-convert {\n",
              "      background-color: #3B4455;\n",
              "      fill: #D2E3FC;\n",
              "    }\n",
              "\n",
              "    [theme=dark] .colab-df-convert:hover {\n",
              "      background-color: #434B5C;\n",
              "      box-shadow: 0px 1px 3px 1px rgba(0, 0, 0, 0.15);\n",
              "      filter: drop-shadow(0px 1px 2px rgba(0, 0, 0, 0.3));\n",
              "      fill: #FFFFFF;\n",
              "    }\n",
              "  </style>\n",
              "\n",
              "    <script>\n",
              "      const buttonEl =\n",
              "        document.querySelector('#df-95e4dc92-f68d-43ae-bcbb-1f94dd3396ae button.colab-df-convert');\n",
              "      buttonEl.style.display =\n",
              "        google.colab.kernel.accessAllowed ? 'block' : 'none';\n",
              "\n",
              "      async function convertToInteractive(key) {\n",
              "        const element = document.querySelector('#df-95e4dc92-f68d-43ae-bcbb-1f94dd3396ae');\n",
              "        const dataTable =\n",
              "          await google.colab.kernel.invokeFunction('convertToInteractive',\n",
              "                                                    [key], {});\n",
              "        if (!dataTable) return;\n",
              "\n",
              "        const docLinkHtml = 'Like what you see? Visit the ' +\n",
              "          '<a target=\"_blank\" href=https://colab.research.google.com/notebooks/data_table.ipynb>data table notebook</a>'\n",
              "          + ' to learn more about interactive tables.';\n",
              "        element.innerHTML = '';\n",
              "        dataTable['output_type'] = 'display_data';\n",
              "        await google.colab.output.renderOutput(dataTable, element);\n",
              "        const docLink = document.createElement('div');\n",
              "        docLink.innerHTML = docLinkHtml;\n",
              "        element.appendChild(docLink);\n",
              "      }\n",
              "    </script>\n",
              "  </div>\n",
              "\n",
              "\n",
              "<div id=\"df-7c5de1fd-0176-424b-a0c6-2499952debca\">\n",
              "  <button class=\"colab-df-quickchart\" onclick=\"quickchart('df-7c5de1fd-0176-424b-a0c6-2499952debca')\"\n",
              "            title=\"Suggest charts\"\n",
              "            style=\"display:none;\">\n",
              "\n",
              "<svg xmlns=\"http://www.w3.org/2000/svg\" height=\"24px\"viewBox=\"0 0 24 24\"\n",
              "     width=\"24px\">\n",
              "    <g>\n",
              "        <path d=\"M19 3H5c-1.1 0-2 .9-2 2v14c0 1.1.9 2 2 2h14c1.1 0 2-.9 2-2V5c0-1.1-.9-2-2-2zM9 17H7v-7h2v7zm4 0h-2V7h2v10zm4 0h-2v-4h2v4z\"/>\n",
              "    </g>\n",
              "</svg>\n",
              "  </button>\n",
              "\n",
              "<style>\n",
              "  .colab-df-quickchart {\n",
              "      --bg-color: #E8F0FE;\n",
              "      --fill-color: #1967D2;\n",
              "      --hover-bg-color: #E2EBFA;\n",
              "      --hover-fill-color: #174EA6;\n",
              "      --disabled-fill-color: #AAA;\n",
              "      --disabled-bg-color: #DDD;\n",
              "  }\n",
              "\n",
              "  [theme=dark] .colab-df-quickchart {\n",
              "      --bg-color: #3B4455;\n",
              "      --fill-color: #D2E3FC;\n",
              "      --hover-bg-color: #434B5C;\n",
              "      --hover-fill-color: #FFFFFF;\n",
              "      --disabled-bg-color: #3B4455;\n",
              "      --disabled-fill-color: #666;\n",
              "  }\n",
              "\n",
              "  .colab-df-quickchart {\n",
              "    background-color: var(--bg-color);\n",
              "    border: none;\n",
              "    border-radius: 50%;\n",
              "    cursor: pointer;\n",
              "    display: none;\n",
              "    fill: var(--fill-color);\n",
              "    height: 32px;\n",
              "    padding: 0;\n",
              "    width: 32px;\n",
              "  }\n",
              "\n",
              "  .colab-df-quickchart:hover {\n",
              "    background-color: var(--hover-bg-color);\n",
              "    box-shadow: 0 1px 2px rgba(60, 64, 67, 0.3), 0 1px 3px 1px rgba(60, 64, 67, 0.15);\n",
              "    fill: var(--button-hover-fill-color);\n",
              "  }\n",
              "\n",
              "  .colab-df-quickchart-complete:disabled,\n",
              "  .colab-df-quickchart-complete:disabled:hover {\n",
              "    background-color: var(--disabled-bg-color);\n",
              "    fill: var(--disabled-fill-color);\n",
              "    box-shadow: none;\n",
              "  }\n",
              "\n",
              "  .colab-df-spinner {\n",
              "    border: 2px solid var(--fill-color);\n",
              "    border-color: transparent;\n",
              "    border-bottom-color: var(--fill-color);\n",
              "    animation:\n",
              "      spin 1s steps(1) infinite;\n",
              "  }\n",
              "\n",
              "  @keyframes spin {\n",
              "    0% {\n",
              "      border-color: transparent;\n",
              "      border-bottom-color: var(--fill-color);\n",
              "      border-left-color: var(--fill-color);\n",
              "    }\n",
              "    20% {\n",
              "      border-color: transparent;\n",
              "      border-left-color: var(--fill-color);\n",
              "      border-top-color: var(--fill-color);\n",
              "    }\n",
              "    30% {\n",
              "      border-color: transparent;\n",
              "      border-left-color: var(--fill-color);\n",
              "      border-top-color: var(--fill-color);\n",
              "      border-right-color: var(--fill-color);\n",
              "    }\n",
              "    40% {\n",
              "      border-color: transparent;\n",
              "      border-right-color: var(--fill-color);\n",
              "      border-top-color: var(--fill-color);\n",
              "    }\n",
              "    60% {\n",
              "      border-color: transparent;\n",
              "      border-right-color: var(--fill-color);\n",
              "    }\n",
              "    80% {\n",
              "      border-color: transparent;\n",
              "      border-right-color: var(--fill-color);\n",
              "      border-bottom-color: var(--fill-color);\n",
              "    }\n",
              "    90% {\n",
              "      border-color: transparent;\n",
              "      border-bottom-color: var(--fill-color);\n",
              "    }\n",
              "  }\n",
              "</style>\n",
              "\n",
              "  <script>\n",
              "    async function quickchart(key) {\n",
              "      const quickchartButtonEl =\n",
              "        document.querySelector('#' + key + ' button');\n",
              "      quickchartButtonEl.disabled = true;  // To prevent multiple clicks.\n",
              "      quickchartButtonEl.classList.add('colab-df-spinner');\n",
              "      try {\n",
              "        const charts = await google.colab.kernel.invokeFunction(\n",
              "            'suggestCharts', [key], {});\n",
              "      } catch (error) {\n",
              "        console.error('Error during call to suggestCharts:', error);\n",
              "      }\n",
              "      quickchartButtonEl.classList.remove('colab-df-spinner');\n",
              "      quickchartButtonEl.classList.add('colab-df-quickchart-complete');\n",
              "    }\n",
              "    (() => {\n",
              "      let quickchartButtonEl =\n",
              "        document.querySelector('#df-7c5de1fd-0176-424b-a0c6-2499952debca button');\n",
              "      quickchartButtonEl.style.display =\n",
              "        google.colab.kernel.accessAllowed ? 'block' : 'none';\n",
              "    })();\n",
              "  </script>\n",
              "</div>\n",
              "\n",
              "  <div id=\"id_638cca47-c800-4d46-969b-d03a53a5ed21\">\n",
              "    <style>\n",
              "      .colab-df-generate {\n",
              "        background-color: #E8F0FE;\n",
              "        border: none;\n",
              "        border-radius: 50%;\n",
              "        cursor: pointer;\n",
              "        display: none;\n",
              "        fill: #1967D2;\n",
              "        height: 32px;\n",
              "        padding: 0 0 0 0;\n",
              "        width: 32px;\n",
              "      }\n",
              "\n",
              "      .colab-df-generate:hover {\n",
              "        background-color: #E2EBFA;\n",
              "        box-shadow: 0px 1px 2px rgba(60, 64, 67, 0.3), 0px 1px 3px 1px rgba(60, 64, 67, 0.15);\n",
              "        fill: #174EA6;\n",
              "      }\n",
              "\n",
              "      [theme=dark] .colab-df-generate {\n",
              "        background-color: #3B4455;\n",
              "        fill: #D2E3FC;\n",
              "      }\n",
              "\n",
              "      [theme=dark] .colab-df-generate:hover {\n",
              "        background-color: #434B5C;\n",
              "        box-shadow: 0px 1px 3px 1px rgba(0, 0, 0, 0.15);\n",
              "        filter: drop-shadow(0px 1px 2px rgba(0, 0, 0, 0.3));\n",
              "        fill: #FFFFFF;\n",
              "      }\n",
              "    </style>\n",
              "    <button class=\"colab-df-generate\" onclick=\"generateWithVariable('compare_results')\"\n",
              "            title=\"Generate code using this dataframe.\"\n",
              "            style=\"display:none;\">\n",
              "\n",
              "  <svg xmlns=\"http://www.w3.org/2000/svg\" height=\"24px\"viewBox=\"0 0 24 24\"\n",
              "       width=\"24px\">\n",
              "    <path d=\"M7,19H8.4L18.45,9,17,7.55,7,17.6ZM5,21V16.75L18.45,3.32a2,2,0,0,1,2.83,0l1.4,1.43a1.91,1.91,0,0,1,.58,1.4,1.91,1.91,0,0,1-.58,1.4L9.25,21ZM18.45,9,17,7.55Zm-12,3A5.31,5.31,0,0,0,4.9,8.1,5.31,5.31,0,0,0,1,6.5,5.31,5.31,0,0,0,4.9,4.9,5.31,5.31,0,0,0,6.5,1,5.31,5.31,0,0,0,8.1,4.9,5.31,5.31,0,0,0,12,6.5,5.46,5.46,0,0,0,6.5,12Z\"/>\n",
              "  </svg>\n",
              "    </button>\n",
              "    <script>\n",
              "      (() => {\n",
              "      const buttonEl =\n",
              "        document.querySelector('#id_638cca47-c800-4d46-969b-d03a53a5ed21 button.colab-df-generate');\n",
              "      buttonEl.style.display =\n",
              "        google.colab.kernel.accessAllowed ? 'block' : 'none';\n",
              "\n",
              "      buttonEl.onclick = () => {\n",
              "        google.colab.notebook.generateWithVariable('compare_results');\n",
              "      }\n",
              "      })();\n",
              "    </script>\n",
              "  </div>\n",
              "\n",
              "    </div>\n",
              "  </div>\n"
            ]
          },
          "metadata": {},
          "execution_count": 37
        }
      ]
    },
    {
      "cell_type": "code",
      "source": [
        "# little more visualization of the results\n",
        "compare_results.set_index(\"model_name\")[\"model_test_acc\"].plot(kind=\"barh\")\n",
        "plt.xlabel=(\"accuracy\")\n",
        "plt.ylabel=(\"model\")"
      ],
      "metadata": {
        "colab": {
          "base_uri": "https://localhost:8080/",
          "height": 430
        },
        "id": "oDuPWZBoBb_F",
        "outputId": "59ccb00f-b778-4fc4-c140-5383e9e4eff1"
      },
      "execution_count": 44,
      "outputs": [
        {
          "output_type": "display_data",
          "data": {
            "text/plain": [
              "<Figure size 640x480 with 1 Axes>"
            ],
            "image/png": "[encoded data removed]"
          },
          "metadata": {}
        }
      ]
    },
    {
      "cell_type": "code",
      "source": [],
      "metadata": {
        "id": "XG-Bg7uBDdJo"
      },
      "execution_count": null,
      "outputs": []
    }
  ]
}