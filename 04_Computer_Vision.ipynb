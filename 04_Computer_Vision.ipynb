{
  "nbformat": 4,
  "nbformat_minor": 0,
  "metadata": {
    "colab": {
      "provenance": [],
      "gpuType": "T4",
      "authorship_tag": "ABX9TyNsnX7jxQ0IJ70kiNDNs3WS",
      "include_colab_link": true
    },
    "kernelspec": {
      "name": "python3",
      "display_name": "Python 3"
    },
    "language_info": {
      "name": "python"
    },
    "accelerator": "GPU"
  },
  "cells": [
    {
      "cell_type": "markdown",
      "metadata": {
        "id": "view-in-github",
        "colab_type": "text"
      },
      "source": [
        "<a href=\"https://colab.research.google.com/github/Greg-Vincent0711/Learning-Pytorch/blob/main/04_Computer_Vision.ipynb\" target=\"_parent\"><img src=\"https://colab.research.google.com/assets/colab-badge.svg\" alt=\"Open In Colab\"/></a>"
      ]
    },
    {
      "cell_type": "code",
      "execution_count": 57,
      "metadata": {
        "id": "GuQzytIXtOPv"
      },
      "outputs": [],
      "source": [
        "import torch\n",
        "from torch import nn\n",
        "import torchvision\n",
        "from torchvision import datasets\n",
        "from torchvision import transforms\n",
        "from torchvision.transforms import ToTensor\n",
        "import matplotlib.pyplot as plt\n"
      ]
    },
    {
      "cell_type": "code",
      "source": [
        "# setting up training data\n",
        "train_data = datasets.FashionMNIST(\n",
        "    root=\"data\", # where data is being downloaded\n",
        "    train=True, # get training split\n",
        "    download=True,\n",
        "    # images need to be tensors to work with a model\n",
        "    transform=ToTensor(),\n",
        "    # don't transform labels\n",
        "    target_transform=None\n",
        ")\n",
        "\n",
        "# setting up testing data\n",
        "test_data = datasets.FashionMNIST(\n",
        "    root=\"data\",\n",
        "    train=False, # get testing split\n",
        "    download=True,\n",
        "    transform=ToTensor(),\n",
        "    target_transform=None\n",
        ")\n",
        "\n"
      ],
      "metadata": {
        "id": "WE-FyPbvwOX4"
      },
      "execution_count": 58,
      "outputs": []
    },
    {
      "cell_type": "code",
      "source": [
        "train_classes = train_data.classes\n",
        "test_classes = test_data.classes\n",
        "train_classes[1]"
      ],
      "metadata": {
        "colab": {
          "base_uri": "https://localhost:8080/",
          "height": 35
        },
        "id": "tw7_hM0i2Soj",
        "outputId": "77079ffa-33bb-4ed1-e6c7-3fe7d673d9f8"
      },
      "execution_count": 59,
      "outputs": [
        {
          "output_type": "execute_result",
          "data": {
            "text/plain": [
              "'Trouser'"
            ],
            "application/vnd.google.colaboratory.intrinsic+json": {
              "type": "string"
            }
          },
          "metadata": {},
          "execution_count": 59
        }
      ]
    },
    {
      "cell_type": "code",
      "source": [
        "image, label = train_data[0]\n",
        "# plt expects height and width, no color channel\n",
        "plt.imshow(image.squeeze())\n",
        "plt.title(train_classes[label])"
      ],
      "metadata": {
        "colab": {
          "base_uri": "https://localhost:8080/",
          "height": 470
        },
        "id": "I29aP8cnzRia",
        "outputId": "5080478b-2229-48b1-9fb4-60b89c6ce647"
      },
      "execution_count": 60,
      "outputs": [
        {
          "output_type": "execute_result",
          "data": {
            "text/plain": [
              "Text(0.5, 1.0, 'Ankle boot')"
            ]
          },
          "metadata": {},
          "execution_count": 60
        },
        {
          "output_type": "display_data",
          "data": {
            "text/plain": [
              "<Figure size 640x480 with 1 Axes>"
            ],
            "image/png": "[encoded data removed]"
          },
          "metadata": {}
        }
      ]
    },
    {
      "cell_type": "code",
      "source": [
        "plt.imshow(image.squeeze(), cmap=\"gray\")\n",
        "plt.title(train_classes[label])\n",
        "plt.axis(False)"
      ],
      "metadata": {
        "id": "7udPXHDv2x08",
        "colab": {
          "base_uri": "https://localhost:8080/",
          "height": 446
        },
        "outputId": "f0b6fb19-bee2-4375-a8f8-7172193d50c9"
      },
      "execution_count": 61,
      "outputs": [
        {
          "output_type": "execute_result",
          "data": {
            "text/plain": [
              "(-0.5, 27.5, 27.5, -0.5)"
            ]
          },
          "metadata": {},
          "execution_count": 61
        },
        {
          "output_type": "display_data",
          "data": {
            "text/plain": [
              "<Figure size 640x480 with 1 Axes>"
            ],
            "image/png": "[encoded data removed]"
          },
          "metadata": {}
        }
      ]
    },
    {
      "cell_type": "code",
      "source": [
        "# just getting an idea of what the data looks like\n",
        "fig = plt.figure(figsize=(9, 9))\n",
        "rows, cols = 4,4\n",
        "for i in range(1, rows * cols+1):\n",
        "  random_index = torch.randint(0, len(train_data), size=[1]).item()\n",
        "  image, label = train_data[random_index]\n",
        "  fig.add_subplot(rows, cols, i)\n",
        "  plt.imshow(image.squeeze(), cmap=\"gray\")\n",
        "  plt.title(train_classes[label])\n"
      ],
      "metadata": {
        "id": "tJH6AqRM3DuX",
        "colab": {
          "base_uri": "https://localhost:8080/",
          "height": 776
        },
        "outputId": "c9423812-bad6-406c-b056-99fd80691186"
      },
      "execution_count": 62,
      "outputs": [
        {
          "output_type": "display_data",
          "data": {
            "text/plain": [
              "<Figure size 900x900 with 16 Axes>"
            ],
            "image/png": "[encoded data removed]"
          },
          "metadata": {}
        }
      ]
    },
    {
      "cell_type": "code",
      "source": [
        "# preparing a dataloader\n",
        "# dataset -> dataloader(turns data into a python iterable )\n",
        "from torch.utils.data import DataLoader\n",
        "BATCH_SIZE = 32\n",
        "# shuffle training data so model doesn't learn img order\n",
        "dataLoader_Train = DataLoader(train_data, BATCH_SIZE, True)\n",
        "# shuffle doesn't matter for testing\n",
        "dataLoader_Test = DataLoader(test_data, BATCH_SIZE, False)"
      ],
      "metadata": {
        "id": "9-T0RQqX4CyG"
      },
      "execution_count": 63,
      "outputs": []
    },
    {
      "cell_type": "code",
      "source": [
        "# interacting with a dataloader\n",
        "train_features_batch, train_labels_batch = next(iter(dataLoader_Train))\n",
        "plt.imshow(train_features_batch[0].squeeze(), cmap=\"gray\")\n",
        "plt.axis(False)\n",
        "plt.title(train_classes[0])\n"
      ],
      "metadata": {
        "colab": {
          "base_uri": "https://localhost:8080/",
          "height": 446
        },
        "id": "vixonW-89TkG",
        "outputId": "4389475a-15b9-4c2f-d46c-71282c209ebb"
      },
      "execution_count": 64,
      "outputs": [
        {
          "output_type": "execute_result",
          "data": {
            "text/plain": [
              "Text(0.5, 1.0, 'T-shirt/top')"
            ]
          },
          "metadata": {},
          "execution_count": 64
        },
        {
          "output_type": "display_data",
          "data": {
            "text/plain": [
              "<Figure size 640x480 with 1 Axes>"
            ],
            "image/png": "[encoded data removed]"
          },
          "metadata": {}
        }
      ]
    },
    {
      "cell_type": "code",
      "source": [
        "# Creating a model\n",
        "\n",
        "# Flatten reduces dims for inputs. Less complex and compatible with\n",
        "# a fully connected layer\n",
        "x = train_features_batch[0]\n",
        "flatten_model = nn.Flatten()\n",
        "output = flatten_model(x)\n",
        "# flattening condenses the data into a single vector space\n",
        "output[0][:5], x[0][:1]"
      ],
      "metadata": {
        "colab": {
          "base_uri": "https://localhost:8080/"
        },
        "id": "uQv38WyZIpwb",
        "outputId": "b9684a1e-41cb-4dd1-f5b6-003340501360"
      },
      "execution_count": 65,
      "outputs": [
        {
          "output_type": "execute_result",
          "data": {
            "text/plain": [
              "(tensor([0., 0., 0., 0., 0.]),\n",
              " tensor([[0.0000, 0.0000, 0.0000, 0.0000, 0.0000, 0.0000, 0.0000, 0.0000, 0.0000,\n",
              "          0.5529, 0.2431, 0.0000, 0.0000, 0.0000, 0.0000, 0.0000, 0.0000, 0.5098,\n",
              "          0.3490, 0.0000, 0.0000, 0.0000, 0.0000, 0.0000, 0.0000, 0.0000, 0.0000,\n",
              "          0.0000]]))"
            ]
          },
          "metadata": {},
          "execution_count": 65
        }
      ]
    },
    {
      "cell_type": "code",
      "source": [
        "class FashionMNISTModelV0(nn.Module):\n",
        "  def __init__(self, input_shape:int,\n",
        "               hidden_units: int,\n",
        "               output_shape: int):\n",
        "    super().__init__()\n",
        "    self.layer_stack = nn.Sequential(\n",
        "        # reduce dims of input\n",
        "        nn.Flatten(),\n",
        "        nn.Linear(in_features=input_shape,\n",
        "                  out_features=hidden_units),\n",
        "        nn.Linear(in_features=hidden_units,\n",
        "                  out_features=output_shape))\n",
        "  def forward(self, input):\n",
        "    return self.layer_stack(input)\n"
      ],
      "metadata": {
        "id": "kgAmA9oUM07Z"
      },
      "execution_count": 66,
      "outputs": []
    },
    {
      "cell_type": "code",
      "source": [
        "torch.manual_seed(42)\n",
        "\n",
        "model_0 = FashionMNISTModelV0(\n",
        "    # refers to shape of input data\n",
        "    input_shape=28*28,\n",
        "    hidden_units=10,\n",
        "    output_shape=len(train_classes)\n",
        ").to(\"cpu\")\n",
        "\n",
        "model_0"
      ],
      "metadata": {
        "colab": {
          "base_uri": "https://localhost:8080/"
        },
        "id": "6Cco7bxFM4BG",
        "outputId": "30b5bd06-e5d6-4633-8725-377d0f294021"
      },
      "execution_count": 67,
      "outputs": [
        {
          "output_type": "execute_result",
          "data": {
            "text/plain": [
              "FashionMNISTModelV0(\n",
              "  (layer_stack): Sequential(\n",
              "    (0): Flatten(start_dim=1, end_dim=-1)\n",
              "    (1): Linear(in_features=784, out_features=10, bias=True)\n",
              "    (2): Linear(in_features=10, out_features=10, bias=True)\n",
              "  )\n",
              ")"
            ]
          },
          "metadata": {},
          "execution_count": 67
        }
      ]
    },
    {
      "cell_type": "code",
      "source": [
        "dummy_X = torch.rand(1, 1, 28 ,28)\n",
        "model_0(dummy_X)\n",
        "model_0.state_dict()"
      ],
      "metadata": {
        "colab": {
          "base_uri": "https://localhost:8080/"
        },
        "id": "LAvvqutFWGno",
        "outputId": "fe175a84-edb5-4ff9-e689-4f28c8ae625c"
      },
      "execution_count": 68,
      "outputs": [
        {
          "output_type": "execute_result",
          "data": {
            "text/plain": [
              "OrderedDict([('layer_stack.1.weight',\n",
              "              tensor([[ 0.0273,  0.0296, -0.0084,  ..., -0.0142,  0.0093,  0.0135],\n",
              "                      [-0.0188, -0.0354,  0.0187,  ..., -0.0106, -0.0001,  0.0115],\n",
              "                      [-0.0008,  0.0017,  0.0045,  ..., -0.0127, -0.0188,  0.0059],\n",
              "                      ...,\n",
              "                      [-0.0116,  0.0273, -0.0344,  ...,  0.0176,  0.0283, -0.0011],\n",
              "                      [-0.0230,  0.0257,  0.0291,  ..., -0.0187, -0.0087,  0.0001],\n",
              "                      [ 0.0176, -0.0147,  0.0053,  ..., -0.0336, -0.0221,  0.0205]])),\n",
              "             ('layer_stack.1.bias',\n",
              "              tensor([-0.0093,  0.0283, -0.0033,  0.0255,  0.0017,  0.0037, -0.0302, -0.0123,\n",
              "                       0.0018,  0.0163])),\n",
              "             ('layer_stack.2.weight',\n",
              "              tensor([[ 0.0614, -0.0687,  0.0021,  0.2718,  0.2109,  0.1079, -0.2279, -0.1063,\n",
              "                        0.2019,  0.2847],\n",
              "                      [-0.1495,  0.1344, -0.0740,  0.2006, -0.0475, -0.2514, -0.3130, -0.0118,\n",
              "                        0.0932, -0.1864],\n",
              "                      [ 0.2488,  0.1500,  0.1907,  0.1457, -0.3050, -0.0580,  0.1643,  0.1565,\n",
              "                       -0.2877, -0.1792],\n",
              "                      [ 0.2305, -0.2618,  0.2397, -0.0610,  0.0232,  0.1542,  0.0851, -0.2027,\n",
              "                        0.1030, -0.2715],\n",
              "                      [-0.1596, -0.0555, -0.0633,  0.2302, -0.1726,  0.2654,  0.1473,  0.1029,\n",
              "                        0.2252, -0.2160],\n",
              "                      [-0.2725,  0.0118,  0.1559,  0.1596,  0.0132,  0.3024,  0.1124,  0.1366,\n",
              "                       -0.1533,  0.0965],\n",
              "                      [-0.1184, -0.2555, -0.2057, -0.1909, -0.0477, -0.1324,  0.2905,  0.1307,\n",
              "                       -0.2629,  0.0133],\n",
              "                      [ 0.2727, -0.0127,  0.0513,  0.0863, -0.1043, -0.2047, -0.1185, -0.0825,\n",
              "                        0.2488, -0.2571],\n",
              "                      [ 0.0425, -0.1209, -0.0336, -0.0281, -0.1227,  0.0730,  0.0747, -0.1816,\n",
              "                        0.1943,  0.2853],\n",
              "                      [-0.1310,  0.0645, -0.1171,  0.2168, -0.0245, -0.2820,  0.0736,  0.2621,\n",
              "                        0.0012, -0.0810]])),\n",
              "             ('layer_stack.2.bias',\n",
              "              tensor([-0.0087,  0.1791,  0.2712, -0.0791,  0.1685,  0.1762,  0.2825,  0.2266,\n",
              "                      -0.2612, -0.2613]))])"
            ]
          },
          "metadata": {},
          "execution_count": 68
        }
      ]
    },
    {
      "cell_type": "code",
      "source": [
        "def calculateAccuracy(y_true, y_pred):\n",
        "  correct = torch.eq(y_true, y_pred).sum().item()\n",
        "  return (correct / len(y_pred)) * 100"
      ],
      "metadata": {
        "id": "CnG-mpu_aWpi"
      },
      "execution_count": 69,
      "outputs": []
    },
    {
      "cell_type": "code",
      "source": [
        "# setting up a loss, optimizer and evaluation metrics\n",
        "\n",
        "# we're using multi-class data, so loss fn is CrossEntropy\n",
        "# optimizer is still SGD\n",
        "loss = nn.CrossEntropyLoss()\n",
        "optimizer = torch.optim.SGD(model_0.parameters(), lr=0.1)"
      ],
      "metadata": {
        "id": "wJHGvcOZYE6P"
      },
      "execution_count": 70,
      "outputs": []
    },
    {
      "cell_type": "code",
      "source": [
        "# fn to track model speed\n",
        "from timeit import default_timer as timer\n",
        "def print_training_time(startTime:float,\n",
        "                        endTime:float,\n",
        "                        device:torch.device = None):\n",
        "  runTime = endTime - startTime\n",
        "  print(f\"Training time for {device}:{runTime:.3f} seconds \")\n",
        "  return runTime\n"
      ],
      "metadata": {
        "id": "mgpCJw6BapXZ"
      },
      "execution_count": 71,
      "outputs": []
    },
    {
      "cell_type": "code",
      "source": [
        "# training/testing model\n",
        "# for now, I'm writing both loops out to practice, but will functionize\n",
        "torch.manual_seed(42)\n",
        "# start timer on run\n",
        "cpuStartTime = timer()\n",
        "# lower epochs = faster training time\n",
        "epochs = 3\n",
        "for epoch in range((epochs)):\n",
        "  print(f\"Epoch # {epoch}\")\n",
        "  train_loss = 0\n",
        "  # loop through training batches\n",
        "  for batch, (train_image, label) in enumerate(dataLoader_Train):\n",
        "    model_0.train()\n",
        "    # create training predictions\n",
        "    image_training_preds = model_0(train_image)\n",
        "    # calculate loss and accuracy\n",
        "    lossamnt = loss(image_training_preds, label)\n",
        "    train_loss += lossamnt\n",
        "    # zero optimizer, backprop, update weights with optimizer step\n",
        "    optimizer.zero_grad()\n",
        "    lossamnt.backward()\n",
        "    optimizer.step()\n",
        "\n",
        "  # avg out training loss over all\n",
        "  train_loss /= len(dataLoader_Train)\n",
        "\n",
        "  test_loss, test_acc = 0,0\n",
        "  model_0.eval()\n",
        "  # no gradient tracking for a performance boost\n",
        "  with torch.inference_mode():\n",
        "    for test_image, label in dataLoader_Test:\n",
        "        image_testing_preds = model_0(test_image)\n",
        "        test_loss += loss(image_testing_preds, label)\n",
        "        # use argmax because chosen pred is based on max of probabilites\n",
        "        # passing that in over logits. dim=1 refers to column values in a row\n",
        "        test_acc += calculateAccuracy(label, image_testing_preds.argmax(dim=1))\n",
        "    # avg test loss and acc per batch\n",
        "    test_loss /= len(dataLoader_Test)\n",
        "    test_acc /= len(dataLoader_Test)\n",
        "  print(f\"\\n Train Loss {train_loss:.4f} | Test Loss: {test_loss:4f}, Test Acc: {test_acc:4f}\")\n",
        "\n",
        "# find training time\n",
        "cpuEndTime = timer()\n",
        "trainTime_model_0 = print_training_time(cpuStartTime,\n",
        "                                        cpuEndTime,\n",
        "                                        str(next(model_0.parameters()).device))"
      ],
      "metadata": {
        "id": "dnMQnYQ5fMWn",
        "colab": {
          "base_uri": "https://localhost:8080/"
        },
        "outputId": "7acdd9fb-385f-41ed-8b48-131afa20e70c"
      },
      "execution_count": 72,
      "outputs": [
        {
          "output_type": "stream",
          "name": "stdout",
          "text": [
            "Epoch # 0\n",
            "\n",
            " Train Loss 0.5904 | Test Loss: 0.509535, Test Acc: 82.038738\n",
            "Epoch # 1\n",
            "\n",
            " Train Loss 0.4763 | Test Loss: 0.479890, Test Acc: 83.196885\n",
            "Epoch # 2\n",
            "\n",
            " Train Loss 0.4550 | Test Loss: 0.476639, Test Acc: 83.426518\n",
            "Training time for cpu:29.899 seconds \n"
          ]
        }
      ]
    },
    {
      "cell_type": "code",
      "source": [
        "# functionalizing testing loop\n",
        "torch.manual_seed(42)\n",
        "def eval_model(model: torch.nn.Module,\n",
        "               data_loader: torch.utils.data.DataLoader,\n",
        "               loss_fn: torch.nn.Module,\n",
        "               accuracy_fn,\n",
        "               device: torch.device = None):\n",
        "  loss, acc = 0,0\n",
        "  model.eval()\n",
        "  with torch.inference_mode():\n",
        "    for image, label in data_loader:\n",
        "      if device is not None:\n",
        "        image,label = image.to(device),label.to(device)\n",
        "      model_preds = model(image)\n",
        "      # accumulating loss/acc values per batch\n",
        "      loss += loss_fn(model_preds, label)\n",
        "      acc += accuracy_fn(label, model_preds.argmax(dim=1))\n",
        "    # find avg loss/acc per batch\n",
        "    loss /= len(data_loader)\n",
        "    acc /= len(data_loader)\n",
        "    return {\n",
        "        \"model_name\": model.__class__.__name__,\n",
        "        \"model_loss\": loss.item(),\n",
        "        \"model_acc\": acc\n",
        "        }\n",
        "\n",
        "model_0_results = eval_model(model_0,\n",
        "                             dataLoader_Test,\n",
        "                             loss,\n",
        "                             calculateAccuracy)\n",
        "model_0_results"
      ],
      "metadata": {
        "colab": {
          "base_uri": "https://localhost:8080/"
        },
        "id": "VAXTEtH6gWyK",
        "outputId": "c417c71f-6ded-4c2b-f9c8-15e7907bdb4c"
      },
      "execution_count": 73,
      "outputs": [
        {
          "output_type": "execute_result",
          "data": {
            "text/plain": [
              "{'model_name': 'FashionMNISTModelV0',\n",
              " 'model_loss': 0.47663888335227966,\n",
              " 'model_acc': 83.42651757188499}"
            ]
          },
          "metadata": {},
          "execution_count": 73
        }
      ]
    },
    {
      "cell_type": "code",
      "source": [
        "device = \"cuda\" if torch.cuda.is_available() else \"cpu\"\n",
        "# designing a device agnostic model with non-linearity\n",
        "class FashionMNISTModelV1(nn.Module):\n",
        "  def __init__(self, input_shape:int,\n",
        "               hidden_units: int,\n",
        "               output_shape: int):\n",
        "    super().__init__()\n",
        "    self.layer_stack = nn.Sequential(\n",
        "        # reduce input to a single vector\n",
        "        nn.Flatten(),\n",
        "        nn.Linear(in_features=input_shape,\n",
        "                  out_features=hidden_units),\n",
        "        nn.ReLU(),\n",
        "        nn.Linear(in_features=hidden_units,\n",
        "                  out_features=output_shape),\n",
        "        nn.ReLU()\n",
        "        )\n",
        "  def forward(self, input):\n",
        "    return self.layer_stack(input)"
      ],
      "metadata": {
        "id": "7lk3HIqFg4T9"
      },
      "execution_count": 74,
      "outputs": []
    },
    {
      "cell_type": "code",
      "source": [
        "# model is made with random numbers\n",
        "torch.manual_seed(42)\n",
        "model_1 = FashionMNISTModelV1(input_shape=784,\n",
        "                              hidden_units=10,\n",
        "                              output_shape=len(train_classes)).to(device)\n",
        "next(model_1.parameters()).device\n"
      ],
      "metadata": {
        "colab": {
          "base_uri": "https://localhost:8080/"
        },
        "id": "dJzVxVzH5YGz",
        "outputId": "bf00ac0b-f7c9-4c50-d5a9-9bb19ddd6044"
      },
      "execution_count": 75,
      "outputs": [
        {
          "output_type": "execute_result",
          "data": {
            "text/plain": [
              "device(type='cuda', index=0)"
            ]
          },
          "metadata": {},
          "execution_count": 75
        }
      ]
    },
    {
      "cell_type": "code",
      "source": [
        "m1Loss = nn.CrossEntropyLoss()\n",
        "m1Optimizer = torch.optim.SGD(model_1.parameters(), lr=0.1)\n",
        "\n",
        "# functionizing training loop\n",
        "\n",
        "def train_model(model:torch.nn.Module,\n",
        "               data_loader: torch.utils.data.DataLoader,\n",
        "               loss_fn:torch.nn.Module,\n",
        "               optimizer: torch.optim.Optimizer,\n",
        "               accuracy_fn,\n",
        "               device: torch.device = device):\n",
        "  train_loss, train_acc = 0,0\n",
        "  model.train()\n",
        "  for batch, (train_image, label) in enumerate(data_loader):\n",
        "    train_image, label = train_image.to(device), label.to(device)\n",
        "    # create training predictions\n",
        "    image_training_preds = model(train_image)\n",
        "    # calculate loss and accuracy\n",
        "    loss = loss_fn(image_training_preds, label)\n",
        "    train_acc += accuracy_fn(label, image_training_preds.argmax(dim=1))\n",
        "    train_loss += loss\n",
        "    # zero optimizer, backprop, update weights with optimizer step\n",
        "    optimizer.zero_grad()\n",
        "    loss.backward()\n",
        "    optimizer.step()\n",
        "  # avg out training loss over all\n",
        "  train_loss /= len(data_loader)\n",
        "  train_acc /= len(data_loader)\n",
        "  return {\n",
        "    \"model_name\": model.__class__.__name__,\n",
        "    \"train_loss\": train_loss,\n",
        "    \"train_acc\": train_acc\n",
        "  }"
      ],
      "metadata": {
        "id": "lftDSZ_757R_"
      },
      "execution_count": 76,
      "outputs": []
    },
    {
      "cell_type": "code",
      "source": [
        "torch.manual_seed(42)\n",
        "from timeit import default_timer as timer\n",
        "gpuTimeStart = timer()\n",
        "epochs = 3\n",
        "for epoch in range((epochs)):\n",
        "  train_model(model_1,\n",
        "              dataLoader_Train,\n",
        "              m1Loss,\n",
        "              m1Optimizer,\n",
        "              calculateAccuracy,\n",
        "              device)\n",
        "  eval_model(model_1,\n",
        "             dataLoader_Test,\n",
        "             m1Loss,\n",
        "             calculateAccuracy,\n",
        "             device)\n",
        "gpuTimeEnd = timer()\n",
        "gpuTrainTime = print_training_time(gpuTimeStart,\n",
        "                        gpuTimeEnd,\n",
        "                        str(next(model_1.parameters()).device))\n",
        "\n",
        ""
      ],
      "metadata": {
        "colab": {
          "base_uri": "https://localhost:8080/"
        },
        "id": "b__74RoGOIcG",
        "outputId": "7e2ca781-df88-472f-f345-3dc07feba273"
      },
      "execution_count": 79,
      "outputs": [
        {
          "output_type": "stream",
          "name": "stdout",
          "text": [
            "Training time for cuda:0:30.690 seconds \n"
          ]
        }
      ]
    },
    {
      "cell_type": "code",
      "source": [
        "model_1_results = eval_model(model_1,\n",
        "             dataLoader_Test,\n",
        "             m1Loss,\n",
        "             calculateAccuracy,\n",
        "             device)\n",
        "print(\"\\n\")\n",
        "model_0_results, model_1_results\n",
        "# overall, non-linear GPU model is faster and more accurate"
      ],
      "metadata": {
        "colab": {
          "base_uri": "https://localhost:8080/"
        },
        "id": "j_GDoi4jYFvj",
        "outputId": "55292fb6-64d4-46e5-8dd3-aeba1af33dfe"
      },
      "execution_count": 81,
      "outputs": [
        {
          "output_type": "stream",
          "name": "stdout",
          "text": [
            "\n",
            "\n"
          ]
        },
        {
          "output_type": "execute_result",
          "data": {
            "text/plain": [
              "({'model_name': 'FashionMNISTModelV0',\n",
              "  'model_loss': 0.47663888335227966,\n",
              "  'model_acc': 83.42651757188499},\n",
              " {'model_name': 'FashionMNISTModelV1',\n",
              "  'model_loss': 0.645904004573822,\n",
              "  'model_acc': 76.35782747603834})"
            ]
          },
          "metadata": {},
          "execution_count": 81
        }
      ]
    },
    {
      "cell_type": "code",
      "source": [],
      "metadata": {
        "id": "CrdghoJtYwQi"
      },
      "execution_count": 78,
      "outputs": []
    }
  ]
}